{
 "cells": [
  {
   "cell_type": "code",
   "execution_count": 1,
   "metadata": {
    "colab": {
     "base_uri": "https://localhost:8080/"
    },
    "id": "Uf84hks4Ubmi",
    "outputId": "e4460b9b-9800-4f13-e77a-d457816a5cf9"
   },
   "outputs": [
    {
     "name": "stdout",
     "output_type": "stream",
     "text": [
      "\u001b[K     |████████████████████████████████| 57 kB 3.9 MB/s \n",
      "\u001b[K     |████████████████████████████████| 1.6 MB 16.5 MB/s \n",
      "\u001b[?25h"
     ]
    }
   ],
   "source": [
    "!pip install kora -q"
   ]
  },
  {
   "cell_type": "code",
   "execution_count": 2,
   "metadata": {
    "colab": {
     "base_uri": "https://localhost:8080/"
    },
    "id": "zXIn9-QXUcYG",
    "outputId": "faba35ce-9e8b-49ac-a6c0-1102d38741bf"
   },
   "outputs": [
    {
     "name": "stdout",
     "output_type": "stream",
     "text": [
      "Looking in indexes: https://pypi.org/simple, https://us-python.pkg.dev/colab-wheels/public/simple/\n",
      "Collecting selenium\n",
      "  Downloading selenium-4.4.3-py3-none-any.whl (985 kB)\n",
      "\u001b[K     |████████████████████████████████| 985 kB 8.5 MB/s \n",
      "\u001b[?25hCollecting trio~=0.17\n",
      "  Downloading trio-0.21.0-py3-none-any.whl (358 kB)\n",
      "\u001b[K     |████████████████████████████████| 358 kB 50.4 MB/s \n",
      "\u001b[?25hCollecting urllib3[socks]~=1.26\n",
      "  Downloading urllib3-1.26.12-py2.py3-none-any.whl (140 kB)\n",
      "\u001b[K     |████████████████████████████████| 140 kB 56.4 MB/s \n",
      "\u001b[?25hRequirement already satisfied: certifi>=2021.10.8 in /usr/local/lib/python3.7/dist-packages (from selenium) (2022.6.15)\n",
      "Collecting trio-websocket~=0.9\n",
      "  Downloading trio_websocket-0.9.2-py3-none-any.whl (16 kB)\n",
      "Requirement already satisfied: sortedcontainers in /usr/local/lib/python3.7/dist-packages (from trio~=0.17->selenium) (2.4.0)\n",
      "Collecting outcome\n",
      "  Downloading outcome-1.2.0-py2.py3-none-any.whl (9.7 kB)\n",
      "Collecting async-generator>=1.9\n",
      "  Downloading async_generator-1.10-py3-none-any.whl (18 kB)\n",
      "Requirement already satisfied: idna in /usr/local/lib/python3.7/dist-packages (from trio~=0.17->selenium) (2.10)\n",
      "Requirement already satisfied: attrs>=19.2.0 in /usr/local/lib/python3.7/dist-packages (from trio~=0.17->selenium) (22.1.0)\n",
      "Collecting sniffio\n",
      "  Downloading sniffio-1.3.0-py3-none-any.whl (10 kB)\n",
      "Collecting wsproto>=0.14\n",
      "  Downloading wsproto-1.2.0-py3-none-any.whl (24 kB)\n",
      "Requirement already satisfied: PySocks!=1.5.7,<2.0,>=1.5.6 in /usr/local/lib/python3.7/dist-packages (from urllib3[socks]~=1.26->selenium) (1.7.1)\n",
      "Collecting h11<1,>=0.9.0\n",
      "  Downloading h11-0.13.0-py3-none-any.whl (58 kB)\n",
      "\u001b[K     |████████████████████████████████| 58 kB 6.4 MB/s \n",
      "\u001b[?25hRequirement already satisfied: typing-extensions in /usr/local/lib/python3.7/dist-packages (from h11<1,>=0.9.0->wsproto>=0.14->trio-websocket~=0.9->selenium) (4.1.1)\n",
      "Installing collected packages: sniffio, outcome, h11, async-generator, wsproto, urllib3, trio, trio-websocket, selenium\n",
      "  Attempting uninstall: urllib3\n",
      "    Found existing installation: urllib3 1.24.3\n",
      "    Uninstalling urllib3-1.24.3:\n",
      "      Successfully uninstalled urllib3-1.24.3\n",
      "\u001b[31mERROR: pip's dependency resolver does not currently take into account all the packages that are installed. This behaviour is the source of the following dependency conflicts.\n",
      "requests 2.23.0 requires urllib3!=1.25.0,!=1.25.1,<1.26,>=1.21.1, but you have urllib3 1.26.12 which is incompatible.\u001b[0m\n",
      "Successfully installed async-generator-1.10 h11-0.13.0 outcome-1.2.0 selenium-4.4.3 sniffio-1.3.0 trio-0.21.0 trio-websocket-0.9.2 urllib3-1.26.12 wsproto-1.2.0\n"
     ]
    }
   ],
   "source": [
    "!pip install selenium"
   ]
  },
  {
   "cell_type": "code",
   "execution_count": 3,
   "metadata": {
    "id": "jeciU90PUlTk"
   },
   "outputs": [],
   "source": [
    "from kora.selenium import wd as browser\n",
    "from selenium.webdriver.common.by import By\n",
    "import pandas as pd\n",
    "import numpy as np\n",
    "import time\n",
    "from datetime import datetime\n",
    "import re"
   ]
  },
  {
   "cell_type": "code",
   "execution_count": 4,
   "metadata": {
    "colab": {
     "base_uri": "https://localhost:8080/"
    },
    "id": "R_Vt6nZ3UoO0",
    "outputId": "dc718662-a5bb-4cad-92e2-8521c25c5665"
   },
   "outputs": [
    {
     "data": {
      "text/plain": [
       "datetime.datetime(2022, 9, 20, 14, 35, 23, 178716)"
      ]
     },
     "execution_count": 4,
     "metadata": {},
     "output_type": "execute_result"
    }
   ],
   "source": [
    "now = datetime.now()\n",
    "now"
   ]
  },
  {
   "cell_type": "code",
   "execution_count": 9,
   "metadata": {
    "id": "GgjvAiy3Uy_w"
   },
   "outputs": [],
   "source": [
    "url = \"https://www.amazon.in/Test-Exclusive_2020_1153-Multi-3GB-Storage/product-reviews/B089MSK43J/ref=cm_cr_dp_d_show_all_btm?ie=UTF8&reviewerType=all_reviews\""
   ]
  },
  {
   "cell_type": "code",
   "execution_count": 10,
   "metadata": {
    "id": "aH2tBB_mU1_o"
   },
   "outputs": [],
   "source": [
    "browser.get(url)"
   ]
  },
  {
   "cell_type": "code",
   "execution_count": 16,
   "metadata": {
    "colab": {
     "base_uri": "https://localhost:8080/",
     "height": 140
    },
    "id": "C_F3hgHPU36i",
    "outputId": "14caf686-c3be-411c-bb8b-329d7ff63546"
   },
   "outputs": [
    {
     "data": {
      "application/vnd.google.colaboratory.intrinsic+json": {
       "type": "string"
      },
      "text/plain": [
       "'<div data-hook=\"genome-widget\" class=\"a-row a-spacing-mini\"><a href=\"/gp/profile/amzn1.account.AEXMOMMQI4OBBR4VPFVYVEZSCDUQ/ref=cm_cr_arp_d_gw_btm?ie=UTF8\" class=\"a-profile\" data-a-size=\"small\"><div aria-hidden=\"true\" class=\"a-profile-avatar-wrapper\"><div class=\"a-profile-avatar\"><img src=\"https://images-eu.ssl-images-amazon.com/images/S/amazon-avatars-global/f2c6f7b8-6aa1-429c-b0fe-fe82e04cb5c0._CR0,0,500,500_SX48_.jpg\" class=\"\" data-src=\"https://images-eu.ssl-images-amazon.com/images/S/amazon-avatars-global/f2c6f7b8-6aa1-429c-b0fe-fe82e04cb5c0._CR0,0,500,500_SX48_.jpg\"><noscript><img src=\"https://images-eu.ssl-images-amazon.com/images/S/amazon-avatars-global/f2c6f7b8-6aa1-429c-b0fe-fe82e04cb5c0._CR0,0,500,500_SX48_.jpg\"/></noscript></div></div><div class=\"a-profile-content\"><span class=\"a-profile-name\">Brendon Fernandes</span></div></a></div><div class=\"a-row\"><a class=\"a-link-normal\" title=\"5.0 out of 5 stars\" href=\"/gp/customer-reviews/RP8ZV67MJSFDD/ref=cm_cr_arp_d_rvw_ttl?ie=UTF8&amp;ASIN=B089MSK43J\"><i data-hook=\"review-star-rating\" class=\"a-icon a-icon-star a-star-5 review-rating\"><span class=\"a-icon-alt\">5.0 out of 5 stars</span></i></a><span class=\"a-letter-space\"></span><a data-hook=\"review-title\" class=\"a-size-base a-link-normal review-title a-color-base review-title-content a-text-bold\" href=\"/gp/customer-reviews/RP8ZV67MJSFDD/ref=cm_cr_arp_d_rvw_ttl?ie=UTF8&amp;ASIN=B089MSK43J\">\\n\\n\\n\\n\\n\\n\\n\\n  \\n  \\n    <span>Excellent phone with a few caveats here and there.</span>\\n  \\n</a></div><span data-hook=\"review-date\" class=\"a-size-base a-color-secondary review-date\">Reviewed in India on 16 July 2021</span><div class=\"a-row a-spacing-mini review-data review-format-strip\"><span class=\"a-declarative\" data-action=\"reviews:filter-action:push-state\" data-csa-c-type=\"widget\" data-csa-c-func-deps=\"aui-da-reviews:filter-action:push-state\" data-reviews:filter-action:push-state=\"{}\" data-csa-c-id=\"eo40zu-90whwg-3yd9zf-vpuu6g\"><a data-reftag=\"cm_cr_arp_d_rvw_rvwer\" data-reviews-state-param=\"{&quot;pageNumber&quot;:&quot;1&quot;,&quot;reviewerType&quot;:&quot;avp_only_reviews&quot;}\" class=\"a-link-normal\" href=\"/Test-Exclusive_2020_1153-Multi-3GB-Storage/product-reviews/B089MSK43J/ref=cm_cr_arp_d_rvw_rvwer?ie=UTF8&amp;reviewerType=avp_only_reviews\"><span data-hook=\"avp-badge\" class=\"a-size-mini a-color-state a-text-bold\">Verified Purchase</span></a></span></div><div class=\"a-row a-spacing-small review-data\"><span data-hook=\"review-body\" class=\"a-size-base review-text review-text-content\">\\n\\n\\n\\n\\n\\n\\n\\n  \\n  \\n    <span>Since my OnePlus 7 conked off out of nowhere one fine day, I was forced to scout for a new phone on a very short term basis. Because of this, I had to move from a phone in the budget premium segment to a higher trim phone within the midrange segment. I will be writing this review from this perspective. I have been using this phone as my main device since the 4th of July, and I\\'ve written this review after using this phone for a little under two weeks.<br><br>One of the biggest things that got my eye was the beautiful Samsung AMOLED display. It is on par with, if not better than my older OnePlus 7. The blacks are beautiful and I could tell that MI did not skimp out on this segment. However, I do feel that their touch sensor could use some improvement, as I find myself mistouching a lot of buttons on it. Also, the screen tends to have a significant flashing problem, especially during the night. While I don\\'t think this is a very frequent issue, do keep this in mind when making a purchase. Another great thing about the screen is the refresh rate. While 120 Hz does make a noticeable difference to the speed at which images and frames move, over time it didn\\'t feel too prominent. Also, most websites do not have the silky smooth scrolling, thus, making it feel a bit alienating. That being said, the refresh rate is very noticeable for sure.<br><br>The build quality of the phone is quite good for the price. While the phone does have a plastic back, it doesn\\'t feel cheap and feels quite sturdy in the hand. The aluminum sides give it a very premium look, even when coupled with the glass back. That being said, having seen the durability tests on youtube, which seemed to highlight that the phone has a lot of vulnerabilities in the build sturdiness. So I\\'d recommend treating this phone and putting a case on it if using it.<br><br>The software experience is not too bad. I love the amount of customisation MIUI offers, from the huge selection of user made themes available, to the smaller quality of life changes from the ability to hide the notch to the ability to go as far as changing the phones font. However I did notice that the phone forces apps to go an dark mode when dark mode is turned on, which causes some images appear incorrectly on the apps. Also, there are times when the screen goes completely unresponsive, and forcing a shutdown is the only way to get the phone back to normal. Other than this, the software is good. A major plus is the fact that the phone comes with Android 11 out of the box, and the phone doesn\\'t have any heating issues. The only time I noticed heating issues is when the phone was running a video call in windowed mode. Since this puts the phone under a considerable amount of load, I would give it a pass. Another thing I would like to bring to light is the fact that flashing an custom ROM will take a few days, as MI seems to have a weird approval system.<br><br>A major positive about the phone is the camera. The camera works wonderfully, whether the app being used is the stock camera or GCam. When compared to GCam, the stock camera seems to churn out more brighter images. However, I think that GCam churns out more \"accurate\" images. There is an beautification effect on selfies which is not very noticeable on the stock camera app, but when compared to images taken through GCam, which are a lot more accurate, it becomes very obvious. To sum up the camera performance however, it is excellent and extremely reliable. Definitely worth going for if you want to take great high quality pictures. The Wide Angle camera could use some improvement, but the Macro and the main 64 MP shooter are absolutely wonderful.<br><br>I cannot comment on the battery life yet as I haven\\'t used my phone for a full day outside yet. But from what I can tell the battery has given me 8 hours SOT on light usage when going from 30-100, which is impressive. The battery doesn\\'t discharge fast as well. However, it is to be noted that I mostly use my phone on the 60 Hz setting, so my results can vary greatly from the others. The phone charges fast enough, but since I rarely charge my phone to a full battery, preferring to do it in small spurts instead, I cannot say much about the charging speed other than saying that it charges fast.<br><br>One positive change that Xiaomi seemed to have implemented in the current set of phones is the fact that there are no ads inbuilt in important UI areas, like settings and the notification bar. Having used the Redmi Note 4 in the past, I can tell that this used to be the case for their older devices. This seems to have been done in response to pressure from users and influencers. That being said, their inbuilt preloaded applications do display many advertisements through notifications and can easily be turned off by stopping notifications from said apps. Once this is done, then you won\\'t see advertisements in the phone at all. I must note that Xiaomi\\'s business model for their budget devices revolves around these advertisements (they refer to it as services), it is to be expected in their Redmi line of devices. I am pointing this out to show that there is an extra cost the end user pays for due to the low budget margins of these budget devices, and that cost comes in the form of these advertisements in the UI. This business model is implemented so that they can offer better value as compared to their competitors.<br><br>While I am not a huge mobile gamer anymore, I have tried playing Battlegrounds India for around half an hour just to see how it was. The game worked well, and there didn\\'t seem to be much of a difference in real time performance as compared to my older OnePlus 7. I did not notice any heating on the device. However, it is to be noted that the OnePlus 7 has a much higher AnTuTu benchmark rating as compared to this phone. While this phone is certainly not a slouch when it comes to gaming, I think that the POCO X3 Pro is a much better pick than the Redmi Note 10 Pro if gaming is a priority given its powerful SD 860 chipset.<br><br>The speakers are really loud and play music really clearly. They work significantly better than the speakers on my older OnePlus device. I was also happy to get the headphone jack back as well, and it works well with my current KZ Edx OEMs. I\\'m happy to note that the phone provides the option to expand storage which I definitely will be taking advantage of in the future.<br><br>So, to sum it up, the phone is a good pick in this price range, due to its well rounded offerings. The camera, the display, the speakers, and the battery life come together to make this phone a good package. There are minor hitches with the software that could be improved in the future, and the vulnerabilities in the build are a cause for concern. However, as long as used properly and carefully, I really don\\'t think that anything will happen to the device.<br><br>Salient points from the above observations:<br>1. The phone has a good and premium looking design. However there are questions about the durability.<br>2. The phone has a great and reliable camera, human faces are given a \"beautification\" effect by the stock camera.<br>3. There are issues with the software, such as a flashing display and an aggressive dark mode, along with random freezes.<br>4. The battery life is quite decent and the phone lasts long.<br>5. Has an acceptable gaming performance, but there are better picks in this price range for this purpose, like the POCO X3 Pro.<br>6. Ads are only present in the pre-loaded apps, can be disabled by turning off all notifications from these apps.<br>7. The phone has a wait time before allowing the bootloader to be unlocked, to be noted if you want to flash a ROM on this device.<br>10. Has a beautiful display that competes strongly with my older OnePlus 7.<br><br>Note: I have not used the Fingerprint sensor as I don\\'t want to store my biometric data on the device.</span>\\n  \\n</span></div><div class=\"a-popover-preload\" id=\"a-popover-RP8ZV67MJSFDD_gallerySection_main\">\\n\\n\\n\\n\\n\\n\\n\\n\\n\\n\\n\\n \\n  \\t\\t \\n\\n\\n<div id=\"RP8ZV67MJSFDD_image_popover\" data-hook=\"image-popover\" class=\"a-section cr-lightbox-popover-container\">\\n\\n    \\n        \\n        \\n            <div class=\"cr-lightbox-image-viewer\">\\n        <div class=\"cr-lightbox-main-image-container\">\\n            <img alt=\"Customer image\" src=\"https://images-na.ssl-images-amazon.com/images/G/01/x-locale/common/transparent-pixel._V192234675_.gif\" class=\"cr-lightbox-main-image\">\\n        </div>\\n        <div class=\"cr-lightbox-navigator-container cr-lightbox-navigator-container__back\">\\n            <div class=\"cr-lightbox-navigator-button cr-lightbox-navigator-button__back\">\\n            </div>\\n        </div>\\n        <div class=\"cr-lightbox-navigator-container cr-lightbox-navigator-container__next\">\\n            <div class=\"cr-lightbox-navigator-button cr-lightbox-navigator-button__next\">\\n            </div>\\n        </div>\\n    </div>\\n    <div class=\"a-section cr-lightbox-review-information\">\\n        <div class=\"a-section a-spacing-mini cr-review-stars-and-title\">\\n\\n            \\n\\n            <i class=\"a-icon a-icon-star a-star-5 cr-lightbox-review-rating\"><span class=\"a-icon-alt\">5.0 out of 5 stars</span></i>\\n            <span class=\"a-size-base cr-lightbox-review-title a-text-bold\">\\n                Excellent phone with a few caveats here and there.\\n            </span>\\n            <br>\\n            <span class=\"a-size-small a-color-secondary cr-lightbox-review-origin\">\\n                \\n                    \\n                    \\n                        \\n                            \\n                                By Brendon Fernandes on 17 July 2021\\n                            \\n                            \\n                        \\n                    \\n                \\n            </span>\\n        </div>\\n        <span class=\"a-size-base cr-lightbox-review-body\">\\n            Since my OnePlus 7 conked off out of nowhere one fine day, I was forced to scout for a new phone on a very short term basis. Because of this, I had to move from a phone in the budget premium segment to a higher trim phone within the midrange segment. I will be writing this review from this perspective. I have been using this phone as my main device since the 4th of July, and I\\'ve written this review after using this phone for a little under two weeks.<br><br>One of the biggest things that got my eye was the beautiful Samsung AMOLED display. It is on par with, if not better than my older OnePlus 7. The blacks are beautiful and I could tell that MI did not skimp out on this segment. However, I do feel that their touch sensor could use some improvement, as I find myself mistouching a lot of buttons on it. Also, the screen tends to have a significant flashing problem, especially during the night. While I don\\'t think this is a very frequent issue, do keep this in mind when making a purchase. Another great thing about the screen is the refresh rate. While 120 Hz does make a noticeable difference to the speed at which images and frames move, over time it didn\\'t feel too prominent. Also, most websites do not have the silky smooth scrolling, thus, making it feel a bit alienating. That being said, the refresh rate is very noticeable for sure.<br><br>The build quality of the phone is quite good for the price. While the phone does have a plastic back, it doesn\\'t feel cheap and feels quite sturdy in the hand. The aluminum sides give it a very premium look, even when coupled with the glass back. That being said, having seen the durability tests on youtube, which seemed to highlight that the phone has a lot of vulnerabilities in the build sturdiness. So I\\'d recommend treating this phone and putting a case on it if using it.<br><br>The software experience is not too bad. I love the amount of customisation MIUI offers, from the huge selection of user made themes available, to the smaller quality of life changes from the ability to hide the notch to the ability to go as far as changing the phones font. However I did notice that the phone forces apps to go an dark mode when dark mode is turned on, which causes some images appear incorrectly on the apps. Also, there are times when the screen goes completely unresponsive, and forcing a shutdown is the only way to get the phone back to normal. Other than this, the software is good. A major plus is the fact that the phone comes with Android 11 out of the box, and the phone doesn\\'t have any heating issues. The only time I noticed heating issues is when the phone was running a video call in windowed mode. Since this puts the phone under a considerable amount of load, I would give it a pass. Another thing I would like to bring to light is the fact that flashing an custom ROM will take a few days, as MI seems to have a weird approval system.<br><br>A major positive about the phone is the camera. The camera works wonderfully, whether the app being used is the stock camera or GCam. When compared to GCam, the stock camera seems to churn out more brighter images. However, I think that GCam churns out more \"accurate\" images. There is an beautification effect on selfies which is not very noticeable on the stock camera app, but when compared to images taken through GCam, which are a lot more accurate, it becomes very obvious. To sum up the camera performance however, it is excellent and extremely reliable. Definitely worth going for if you want to take great high quality pictures. The Wide Angle camera could use some improvement, but the Macro and the main 64 MP shooter are absolutely wonderful.<br><br>I cannot comment on the battery life yet as I haven\\'t used my phone for a full day outside yet. But from what I can tell the battery has given me 8 hours SOT on light usage when going from 30-100, which is impressive. The battery doesn\\'t discharge fast as well. However, it is to be noted that I mostly use my phone on the 60 Hz setting, so my results can vary greatly from the others. The phone charges fast enough, but since I rarely charge my phone to a full battery, preferring to do it in small spurts instead, I cannot say much about the charging speed other than saying that it charges fast.<br><br>One positive change that Xiaomi seemed to have implemented in the current set of phones is the fact that there are no ads inbuilt in important UI areas, like settings and the notification bar. Having used the Redmi Note 4 in the past, I can tell that this used to be the case for their older devices. This seems to have been done in response to pressure from users and influencers. That being said, their inbuilt preloaded applications do display many advertisements through notifications and can easily be turned off by stopping notifications from said apps. Once this is done, then you won\\'t see advertisements in the phone at all. I must note that Xiaomi\\'s business model for their budget devices revolves around these advertisements (they refer to it as services), it is to be expected in their Redmi line of devices. I am pointing this out to show that there is an extra cost the end user pays for due to the low budget margins of these budget devices, and that cost comes in the form of these advertisements in the UI. This business model is implemented so that they can offer better value as compared to their competitors.<br><br>While I am not a huge mobile gamer anymore, I have tried playing Battlegrounds India for around half an hour just to see how it was. The game worked well, and there didn\\'t seem to be much of a difference in real time performance as compared to my older OnePlus 7. I did not notice any heating on the device. However, it is to be noted that the OnePlus 7 has a much higher AnTuTu benchmark rating as compared to this phone. While this phone is certainly not a slouch when it comes to gaming, I think that the POCO X3 Pro is a much better pick than the Redmi Note 10 Pro if gaming is a priority given its powerful SD 860 chipset.<br><br>The speakers are really loud and play music really clearly. They work significantly better than the speakers on my older OnePlus device. I was also happy to get the headphone jack back as well, and it works well with my current KZ Edx OEMs. I\\'m happy to note that the phone provides the option to expand storage which I definitely will be taking advantage of in the future.<br><br>So, to sum it up, the phone is a good pick in this price range, due to its well rounded offerings. The camera, the display, the speakers, and the battery life come together to make this phone a good package. There are minor hitches with the software that could be improved in the future, and the vulnerabilities in the build are a cause for concern. However, as long as used properly and carefully, I really don\\'t think that anything will happen to the device.<br><br>Salient points from the above observations:<br>1. The phone has a good and premium looking design. However there are questions about the durability.<br>2. The phone has a great and reliable camera, human faces are given a \"beautification\" effect by the stock camera.<br>3. There are issues with the software, such as a flashing display and an aggressive dark mode, along with random freezes.<br>4. The battery life is quite decent and the phone lasts long.<br>5. Has an acceptable gaming performance, but there are better picks in this price range for this purpose, like the POCO X3 Pro.<br>6. Ads are only present in the pre-loaded apps, can be disabled by turning off all notifications from these apps.<br>7. The phone has a wait time before allowing the bootloader to be unlocked, to be noted if you want to flash a ROM on this device.<br>10. Has a beautiful display that competes strongly with my older OnePlus 7.<br><br>Note: I have not used the Fingerprint sensor as I don\\'t want to store my biometric data on the device.\\n        </span>\\n        <div class=\"a-section a-spacing-top-base\">\\n            <span class=\"a-size-medium a-color-secondary\">\\n                Images in this review \\n            </span>\\n            <div class=\"a-section a-spacing-top-mini cr-lightbox-image-thumbnails\">\\n                \\n                    \\n                        <img alt=\"Customer image\" src=\"https://images-na.ssl-images-amazon.com/images/I/B1IyPh0XFWS._SY88.jpg\" class=\"cr-lightbox-image-thumbnail\">\\n                    \\n                        <img alt=\"Customer image\" src=\"https://images-na.ssl-images-amazon.com/images/I/C1tyZPv24WS._SY88.jpg\" class=\"cr-lightbox-image-thumbnail\">\\n                    \\n                        <img alt=\"Customer image\" src=\"https://images-na.ssl-images-amazon.com/images/I/C1uDpFhYRgS._SY88.jpg\" class=\"cr-lightbox-image-thumbnail\">\\n                    \\n                        <img alt=\"Customer image\" src=\"https://images-na.ssl-images-amazon.com/images/I/D17Y9suwmMS._SY88.jpg\" class=\"cr-lightbox-image-thumbnail\">\\n                    \\n                        <img alt=\"Customer image\" src=\"https://images-na.ssl-images-amazon.com/images/I/D1kTiNjrE4S._SY88.jpg\" class=\"cr-lightbox-image-thumbnail\">\\n                    \\n                \\n            </div>\\n        </div>\\n    </div>\\n        \\n    \\n</div>\\n\\n\\n\\n<script>\\n   function toggleSeeAllView() {\\n       P.when(\\'A\\', \\'cr-image-popover-controller\\').execute(function(A, imagePopoverController) {\\n          imagePopoverController.toggleSeeAllView(true);\\n       });\\n   }\\n</script>\\n</div><div id=\"RP8ZV67MJSFDD_imageSection_main\" class=\"a-section a-spacing-medium review-image-container\"><div class=\"review-image-tile-section\" data-reviewid=\"RP8ZV67MJSFDD\">\\n       <span class=\"a-declarative\" data-action=\"a-modal\" data-csa-c-type=\"widget\" data-csa-c-func-deps=\"aui-da-a-modal\" data-a-modal=\"{&quot;name&quot;:&quot;RP8ZV67MJSFDD_gallerySection_main&quot;}\" id=\"RP8ZV67MJSFDD-0\" data-csa-c-id=\"uor0m4-nh1l76-sw82hx-7uxfyz\"><a href=\"javascript:void(0)\" role=\"button\" class=\"a-popover-trigger a-declarative\"><img alt=\"Customer image\" src=\"https://images-na.ssl-images-amazon.com/images/I/B1IyPh0XFWS._SY88.jpg\" data-hook=\"review-image-tile\" class=\"review-image-tile\" height=\"88\" width=\"100%\"><i class=\"a-icon a-icon-popover\"></i></a></span><span class=\"a-declarative\" data-action=\"a-modal\" data-csa-c-type=\"widget\" data-csa-c-func-deps=\"aui-da-a-modal\" data-a-modal=\"{&quot;name&quot;:&quot;RP8ZV67MJSFDD_gallerySection_main&quot;}\" id=\"RP8ZV67MJSFDD-1\" data-csa-c-id=\"is8fyq-86unwm-7687m7-kiys84\"><a href=\"javascript:void(0)\" role=\"button\" class=\"a-popover-trigger a-declarative\"><img alt=\"Customer image\" src=\"https://images-na.ssl-images-amazon.com/images/I/C1tyZPv24WS._SY88.jpg\" data-hook=\"review-image-tile\" class=\"review-image-tile\" height=\"88\" width=\"100%\"><i class=\"a-icon a-icon-popover\"></i></a></span><span class=\"a-declarative\" data-action=\"a-modal\" data-csa-c-type=\"widget\" data-csa-c-func-deps=\"aui-da-a-modal\" data-a-modal=\"{&quot;name&quot;:&quot;RP8ZV67MJSFDD_gallerySection_main&quot;}\" id=\"RP8ZV67MJSFDD-2\" data-csa-c-id=\"yovluj-58w4oj-cyy64d-14ro1c\"><a href=\"javascript:void(0)\" role=\"button\" class=\"a-popover-trigger a-declarative\"><img alt=\"Customer image\" src=\"https://images-na.ssl-images-amazon.com/images/I/C1uDpFhYRgS._SY88.jpg\" data-hook=\"review-image-tile\" class=\"review-image-tile\" height=\"88\" width=\"100%\"><i class=\"a-icon a-icon-popover\"></i></a></span><span class=\"a-declarative\" data-action=\"a-modal\" data-csa-c-type=\"widget\" data-csa-c-func-deps=\"aui-da-a-modal\" data-a-modal=\"{&quot;name&quot;:&quot;RP8ZV67MJSFDD_gallerySection_main&quot;}\" id=\"RP8ZV67MJSFDD-3\" data-csa-c-id=\"yn5wvg-fxdm6d-pgikea-1n348j\"><a href=\"javascript:void(0)\" role=\"button\" class=\"a-popover-trigger a-declarative\"><img alt=\"Customer image\" src=\"https://images-na.ssl-images-amazon.com/images/I/D17Y9suwmMS._SY88.jpg\" data-hook=\"review-image-tile\" class=\"review-image-tile\" height=\"88\" width=\"100%\"><i class=\"a-icon a-icon-popover\"></i></a></span><span class=\"a-declarative\" data-action=\"a-modal\" data-csa-c-type=\"widget\" data-csa-c-func-deps=\"aui-da-a-modal\" data-a-modal=\"{&quot;name&quot;:&quot;RP8ZV67MJSFDD_gallerySection_main&quot;}\" id=\"RP8ZV67MJSFDD-4\" data-csa-c-id=\"llyjfc-rcz5po-mlrjlv-m0wxe0\"><a href=\"javascript:void(0)\" role=\"button\" class=\"a-popover-trigger a-declarative\"><img alt=\"Customer image\" src=\"https://images-na.ssl-images-amazon.com/images/I/D1kTiNjrE4S._SY88.jpg\" data-hook=\"review-image-tile\" class=\"review-image-tile\" height=\"88\" width=\"100%\"><i class=\"a-icon a-icon-popover\"></i></a></span></div>\\n</div><script>\\n        P.when(\\'A\\', \\'cr-image-popover-controller\\').execute(function(A, imagePopoverController) {\\n          A.on(\"a:popover:beforeShow:RP8ZV67MJSFDD_gallerySection_main\", function(data) {\\n            imagePopoverController.initImagePopover(\"RP8ZV67MJSFDD\", \"[https://images-na.ssl-images-amazon.com/images/I/B1IyPh0XFWS._SL1600_.jpg, https://images-na.ssl-images-amazon.com/images/I/C1tyZPv24WS._SL1600_.jpg, https://images-na.ssl-images-amazon.com/images/I/C1uDpFhYRgS._SL1600_.jpg, https://images-na.ssl-images-amazon.com/images/I/D17Y9suwmMS._SL1600_.jpg, https://images-na.ssl-images-amazon.com/images/I/D1kTiNjrE4S._SL1600_.jpg]\", data);\\n          });\\n        });\\n    </script>\\n<div class=\"a-row review-comments comments-for-RP8ZV67MJSFDD\"><div data-reftag=\"cm_cr_arp_d_cmt_opn\" data-a-expander-name=\"review_comment_expander\" class=\"a-row a-expander-container a-expander-inline-container cr-vote-action-bar\"><span class=\"cr-vote\" data-hook=\"review-voting-widget\">\\n  <div class=\"a-row a-spacing-small\"><span data-hook=\"helpful-vote-statement\" class=\"a-size-base a-color-tertiary cr-vote-text\">68 people found this helpful</span></div><div class=\"cr-helpful-button aok-float-left\">\\n      <span class=\"a-button a-button-base\" id=\"a-autoid-8\"><span class=\"a-button-inner\"><a href=\"https://www.amazon.in/ap/signin?openid.return_to=https%3A%2F%2Fwww.amazon.in%2FTest-Exclusive_2020_1153-Multi-3GB-Storage%2Fproduct-reviews%2FB089MSK43J%2Fref%3Dcm_cr_arp_d_vote_lft%3Fie%3DUTF8%26reviewerType%3Dall_reviews%26csrfT%3DhJjmFvfrDO3X7vmS9luQjIsdsEoXTXHxX1npWpuAceegAAAAAGMp0UAAAAAB%26reviewId%3DRP8ZV67MJSFDD&amp;openid.identity=http%3A%2F%2Fspecs.openid.net%2Fauth%2F2.0%2Fidentifier_select&amp;openid.assoc_handle=inflex&amp;openid.mode=checkid_setup&amp;marketPlaceId=A21TJRUUN4KGV&amp;language=en&amp;openid.claimed_id=http%3A%2F%2Fspecs.openid.net%2Fauth%2F2.0%2Fidentifier_select&amp;openid.ns=http%3A%2F%2Fspecs.openid.net%2Fauth%2F2.0\" data-hook=\"vote-helpful-button\" class=\"a-button-text\" id=\"a-autoid-8-announce\"><div class=\"cr-helpful-text\">\\n          Helpful</div>\\n      </a></span></span></div>\\n  </span><span class=\"cr-footer-line-height\">\\n          <span><i class=\"a-icon a-icon-text-separator\" role=\"img\" aria-label=\"|\"></i><span class=\"a-declarative\" data-action=\"cr-popup\" data-csa-c-type=\"widget\" data-csa-c-func-deps=\"aui-da-cr-popup\" data-cr-popup=\"{&quot;width&quot;:&quot;580&quot;,&quot;title&quot;:&quot;ReportAbuse&quot;,&quot;url&quot;:&quot;/hz/reviews-render/report-review?ie=UTF8&amp;ref=cm_cr_arp_d_rvw_hlp&amp;csrfT=hJjmFvfrDO3X7vmS9luQjIsdsEoXTXHxX1npWpuAceegAAAAAGMp0UAAAAAB&amp;reviewId=RP8ZV67MJSFDD&quot;,&quot;height&quot;:&quot;380&quot;}\" data-csa-c-id=\"2pvp3m-ucp2s9-7c8flr-sj4ox1\"><a class=\"a-size-base a-link-normal a-color-secondary report-abuse-link a-text-normal\" href=\"/hz/reviews-render/report-review?ie=UTF8&amp;ref=cm_cr_arp_d_rvw_hlp&amp;csrfT=hJjmFvfrDO3X7vmS9luQjIsdsEoXTXHxX1npWpuAceegAAAAAGMp0UAAAAAB&amp;reviewId=RP8ZV67MJSFDD\">Report abuse</a></span></span></span>\\n\\n        <div aria-expanded=\"false\" class=\"a-expander-content a-spacing-top-base a-spacing-large a-expander-inline-content a-expander-inner\" style=\"display:none\"><div class=\"a-row a-spacing-mini review-comments-header aok-hidden\"><ul class=\"a-viewoptions-list a-viewoptions-section a-span12\">\\n    <div class=\"a-row a-spacing-none a-grid-vertical-align a-grid-center\"><div class=\"a-column a-span6\"><span class=\"a-size-base a-viewoptions-list-label\">Showing <span class=\"review-comment-count\">0</span> comments</span></div></div></ul>\\n</div><div class=\"a-section a-spacing-extra-large a-spacing-top-medium a-text-center comment-load-error aok-hidden\"><div class=\"a-box a-alert a-alert-error cr-error\" role=\"alert\"><div class=\"a-box-inner a-alert-container\"><h4 class=\"a-alert-heading\">There was a problem loading comments right now. Please try again later.</h4><i class=\"a-icon a-icon-alert\"></i><div class=\"a-alert-content\"></div></div></div></div><div class=\"a-section a-spacing-none review-comments\"></div><div class=\"a-spinner-wrapper comment-loading aok-hidden a-spacing-top-medium a-spacing-extra-large\"><span class=\"a-spinner a-spinner-medium\"></span></div><hr aria-hidden=\"true\" class=\"a-spacing-none a-spacing-top-large a-divider-normal\"></div></div></div>'"
      ]
     },
     "execution_count": 16,
     "metadata": {},
     "output_type": "execute_result"
    }
   ],
   "source": [
    "containers = [x.get_attribute('innerHTML') for x in browser.find_elements(By.XPATH,\"//div[@class='a-section celwidget']\")]\n",
    "containers[0]"
   ]
  },
  {
   "cell_type": "code",
   "execution_count": 17,
   "metadata": {
    "colab": {
     "base_uri": "https://localhost:8080/"
    },
    "id": "p14GzS7tU6cq",
    "outputId": "b7858e47-fb01-449f-9441-5a61f019d9d6"
   },
   "outputs": [
    {
     "data": {
      "text/plain": [
       "10"
      ]
     },
     "execution_count": 17,
     "metadata": {},
     "output_type": "execute_result"
    }
   ],
   "source": [
    "len(containers)"
   ]
  },
  {
   "cell_type": "code",
   "execution_count": 18,
   "metadata": {
    "id": "Sq84wNN_YxMT"
   },
   "outputs": [],
   "source": [
    "from bs4 import BeautifulSoup"
   ]
  },
  {
   "cell_type": "code",
   "execution_count": 31,
   "metadata": {
    "id": "97m7SvHgbO9B"
   },
   "outputs": [],
   "source": [
    "reviews=[]\n",
    "ratings=[]\n",
    "dates=[]\n",
    "\n",
    "for container in containers:\n",
    "  bsObj = BeautifulSoup(container)\n",
    "  rev = bsObj.find(\"span\",attrs={\"class\":\"a-size-base review-text review-text-content\"}).text.strip()\n",
    "  reviews.append(rev)\n",
    "\n",
    "  dt = bsObj.find(\"span\",attrs={\"class\":\"a-size-base a-color-secondary review-date\"}).text.strip()\n",
    "  dates.append(dt)\n",
    "\n",
    "  rating = bsObj.find(\"a\",attrs={\"class\":\"a-link-normal\"}).text.strip()\n",
    "  ratings.append(rating)"
   ]
  },
  {
   "cell_type": "code",
   "execution_count": 36,
   "metadata": {
    "colab": {
     "base_uri": "https://localhost:8080/"
    },
    "id": "7jZCr_ayecN4",
    "outputId": "ddc4adee-6748-4cba-d179-7d59086d0356"
   },
   "outputs": [
    {
     "data": {
      "text/plain": [
       "['Since my OnePlus 7 conked off out of nowhere one fine day, I was forced to scout for a new phone on a very short term basis. Because of this, I had to move from a phone in the budget premium segment to a higher trim phone within the midrange segment. I will be writing this review from this perspective. I have been using this phone as my main device since the 4th of July, and I\\'ve written this review after using this phone for a little under two weeks.One of the biggest things that got my eye was the beautiful Samsung AMOLED display. It is on par with, if not better than my older OnePlus 7. The blacks are beautiful and I could tell that MI did not skimp out on this segment. However, I do feel that their touch sensor could use some improvement, as I find myself mistouching a lot of buttons on it. Also, the screen tends to have a significant flashing problem, especially during the night. While I don\\'t think this is a very frequent issue, do keep this in mind when making a purchase. Another great thing about the screen is the refresh rate. While 120 Hz does make a noticeable difference to the speed at which images and frames move, over time it didn\\'t feel too prominent. Also, most websites do not have the silky smooth scrolling, thus, making it feel a bit alienating. That being said, the refresh rate is very noticeable for sure.The build quality of the phone is quite good for the price. While the phone does have a plastic back, it doesn\\'t feel cheap and feels quite sturdy in the hand. The aluminum sides give it a very premium look, even when coupled with the glass back. That being said, having seen the durability tests on youtube, which seemed to highlight that the phone has a lot of vulnerabilities in the build sturdiness. So I\\'d recommend treating this phone and putting a case on it if using it.The software experience is not too bad. I love the amount of customisation MIUI offers, from the huge selection of user made themes available, to the smaller quality of life changes from the ability to hide the notch to the ability to go as far as changing the phones font. However I did notice that the phone forces apps to go an dark mode when dark mode is turned on, which causes some images appear incorrectly on the apps. Also, there are times when the screen goes completely unresponsive, and forcing a shutdown is the only way to get the phone back to normal. Other than this, the software is good. A major plus is the fact that the phone comes with Android 11 out of the box, and the phone doesn\\'t have any heating issues. The only time I noticed heating issues is when the phone was running a video call in windowed mode. Since this puts the phone under a considerable amount of load, I would give it a pass. Another thing I would like to bring to light is the fact that flashing an custom ROM will take a few days, as MI seems to have a weird approval system.A major positive about the phone is the camera. The camera works wonderfully, whether the app being used is the stock camera or GCam. When compared to GCam, the stock camera seems to churn out more brighter images. However, I think that GCam churns out more \"accurate\" images. There is an beautification effect on selfies which is not very noticeable on the stock camera app, but when compared to images taken through GCam, which are a lot more accurate, it becomes very obvious. To sum up the camera performance however, it is excellent and extremely reliable. Definitely worth going for if you want to take great high quality pictures. The Wide Angle camera could use some improvement, but the Macro and the main 64 MP shooter are absolutely wonderful.I cannot comment on the battery life yet as I haven\\'t used my phone for a full day outside yet. But from what I can tell the battery has given me 8 hours SOT on light usage when going from 30-100, which is impressive. The battery doesn\\'t discharge fast as well. However, it is to be noted that I mostly use my phone on the 60 Hz setting, so my results can vary greatly from the others. The phone charges fast enough, but since I rarely charge my phone to a full battery, preferring to do it in small spurts instead, I cannot say much about the charging speed other than saying that it charges fast.One positive change that Xiaomi seemed to have implemented in the current set of phones is the fact that there are no ads inbuilt in important UI areas, like settings and the notification bar. Having used the Redmi Note 4 in the past, I can tell that this used to be the case for their older devices. This seems to have been done in response to pressure from users and influencers. That being said, their inbuilt preloaded applications do display many advertisements through notifications and can easily be turned off by stopping notifications from said apps. Once this is done, then you won\\'t see advertisements in the phone at all. I must note that Xiaomi\\'s business model for their budget devices revolves around these advertisements (they refer to it as services), it is to be expected in their Redmi line of devices. I am pointing this out to show that there is an extra cost the end user pays for due to the low budget margins of these budget devices, and that cost comes in the form of these advertisements in the UI. This business model is implemented so that they can offer better value as compared to their competitors.While I am not a huge mobile gamer anymore, I have tried playing Battlegrounds India for around half an hour just to see how it was. The game worked well, and there didn\\'t seem to be much of a difference in real time performance as compared to my older OnePlus 7. I did not notice any heating on the device. However, it is to be noted that the OnePlus 7 has a much higher AnTuTu benchmark rating as compared to this phone. While this phone is certainly not a slouch when it comes to gaming, I think that the POCO X3 Pro is a much better pick than the Redmi Note 10 Pro if gaming is a priority given its powerful SD 860 chipset.The speakers are really loud and play music really clearly. They work significantly better than the speakers on my older OnePlus device. I was also happy to get the headphone jack back as well, and it works well with my current KZ Edx OEMs. I\\'m happy to note that the phone provides the option to expand storage which I definitely will be taking advantage of in the future.So, to sum it up, the phone is a good pick in this price range, due to its well rounded offerings. The camera, the display, the speakers, and the battery life come together to make this phone a good package. There are minor hitches with the software that could be improved in the future, and the vulnerabilities in the build are a cause for concern. However, as long as used properly and carefully, I really don\\'t think that anything will happen to the device.Salient points from the above observations:1. The phone has a good and premium looking design. However there are questions about the durability.2. The phone has a great and reliable camera, human faces are given a \"beautification\" effect by the stock camera.3. There are issues with the software, such as a flashing display and an aggressive dark mode, along with random freezes.4. The battery life is quite decent and the phone lasts long.5. Has an acceptable gaming performance, but there are better picks in this price range for this purpose, like the POCO X3 Pro.6. Ads are only present in the pre-loaded apps, can be disabled by turning off all notifications from these apps.7. The phone has a wait time before allowing the bootloader to be unlocked, to be noted if you want to flash a ROM on this device.10. Has a beautiful display that competes strongly with my older OnePlus 7.Note: I have not used the Fingerprint sensor as I don\\'t want to store my biometric data on the device.',\n",
       " \"Bought this smartphone for a discount of 17500 for 8/128GB for the Glacial Blue version.Initial impressions, I was quite sceptical when buying this phone looking at the reviews from Amazon, but I must say, I'm happy that the reviews were wrong.My previous phone was a Realme 5 Pro and although that phones had it's pros and cons, but the cons mostly was what made me unhappy with the phone.Since, I recently got into watching HDR content and wanted those color accuracy and deep blacks in a budget, this was only reason to buy this smartphone.But in terms of other departments too, it's quite an all rounder.In terms of looks, this phone is quite a looker, even if you are just holding the phone in your hand, people do notice it, and it's Glacial matte blue back looks fantastic.The display is just brilliant, 120hz felt buttery smooth and there was no lags, the phone switched the 60hz when you watching videos, or the screen is still which is good for the battery too. The colors are accurate and setting it to auto + warm gave the most accurate color reproduction,  really do enjoy watching my HDR10 4K content. The phone supports HDR10+ too, and has Widevine L1 support, sadly prime and Netflix do not show HDR content but 1080p looks great too.In hand feel, the phone is well balanced and even at 192g for the screen size, it does not feel heavy, and compared to my older phone, this is quite thin and feels great when holding.This has a stereo speaker system, and although not as balanced (60/40) makes up for a good content viewing compared the having just one mono speaker.Cameras are reasonably sharp and clear and since my only usage for camera is scanning docs, I can't say much in this department. Other than that, I did try some macro shots and the bump from 2MP to 5MP actually results in quite good shots.The fingerprint sensor which also is the power button is snappy works error free.Connectivity is great, the network range is good and I did not found any issues, I'm using a Vodafone Sim and volte and vowifi works perfectly, now some people would argue that at this timeline, I should have bought a 5G phone instead, but I personally feel 5G phones at this point is just a gimmick and branding and since official 5G bands have not beens released by the telecom operator yet, buying it now is quite useless. Overall buying the first generation at this price point, and cutting corners in other areas is stupid. If you really want a 5G phone, I suggest you then wait.I use VPN for my work, and it worked well, even after the vpn appn closed and there were no disconnections.Performance? Well, I'm not a gamer or a heavy user for that matter, but for basic day to day usage, I had no lags and everything worked quite well and since it has 8GB of ram, I tried having multiple application in the background and they all worked without closing, if I needed any app to stay no matter what there is option to lock it.Now coming to the elephant in the room, that is the MIUI. 😅 Hmm.... Good actually, no actually great!! 😀 Only, if you tweak it a bit, now no no, I'm not saying you need root your smartphone okay, first, where miui is done right, the calling and messaging is native by Google, there is just the stock browser app that is chrome, and few pre installed that can be uninstalled. There is a application that can remove getapps, I did just that, no notification, no ads, also removed the option the scan apps on every installed, disabled all recommendation and finally it's lightning smooth and all apps work great, and even the ui has its miner implementation and better accessing.Final Verdict - Should you buy it? If camera is not important to you and you are willing to get around the miui things, then definitely yes, other than, I don't really see any other better competition for the price bracket with an amoled display.Would update this, if there is something ever gone wrong.UPDATE: After 2 weeks of usage, found some issues.1. There are some optimization issues, don't know if it's a app bug or miui itself, but at 120hz, if youtube is being played in pip mode, the phone stutters a bit.2. Playing at 2160p youtube consumes good amount of battery, this is not a lot but if you are someone who watches for a long time and want the best battery too, try to max out at 1440p.3. Battery performance is actually amazing, keeping the phone at 120hz got me atleast 1+1/2 days of usage, with 8.3 hours of screen on time. Now that is wow.4. 33W fast charger is adequate and doesn't get hot, but not well optimized if you are also using the screen while its being charged.5. If you disable lockscreen notification, you don't get an playback controls on notification for any apps. Turning it on, makes that the playback controls never ever go, it's stuck on the top forever. (maybe it's a feature?)6. Proximity Sensor. Yes. I feel Xiaomi ommited it. It's fine for calls of short duration but if you are talking for hours, you will get issues, like getting muted or speaker tuning on etc. Not really a issue for me, since i barely use or get calls once a week.7. Phone doesn't really get hot, but miui still does need to optimize this device a bit more, but i doubt they'd do that, since they are launching so many phones in such a short time.8. I liked them superwallpapers, but turning on ultra power saver, defaults the amoled ss.9. Would be nice of they remove the 10 second limit of amoled ss.10. Case is already going yellow. Lol.11. Oh last, don't know what people say about background app optimization issue, but that is working just fine for me.I'm still happy with my device, it's well balanced, looks good, works good too. Plus 8GB of ram is a banger. No ads, none.Rating changed from 5stars to 4.\",\n",
       " \"Got this phone for 15,499 on Amazon. It's a decent but for this price range.Camera is so-so. I expected from a 64MP camera but it doesn't have that much quality. It clicks decent pictures.Battery life is good. Lasts all day with a single charge in morning.Haven't tried gaming on it but the processor is fast and display is also good.Nice look and feel. It's a good product for this price range, I think.\"]"
      ]
     },
     "execution_count": 36,
     "metadata": {},
     "output_type": "execute_result"
    }
   ],
   "source": [
    "reviews[:3]"
   ]
  },
  {
   "cell_type": "code",
   "execution_count": 35,
   "metadata": {
    "colab": {
     "base_uri": "https://localhost:8080/"
    },
    "id": "UDFH1cGZgoUn",
    "outputId": "b3a19743-6d96-4227-f11b-b336f8db6622"
   },
   "outputs": [
    {
     "data": {
      "text/plain": [
       "['5.0 out of 5 stars',\n",
       " '4.0 out of 5 stars',\n",
       " '4.0 out of 5 stars',\n",
       " '4.0 out of 5 stars',\n",
       " '4.0 out of 5 stars',\n",
       " '4.0 out of 5 stars',\n",
       " '4.0 out of 5 stars',\n",
       " '4.0 out of 5 stars',\n",
       " '4.0 out of 5 stars',\n",
       " '4.0 out of 5 stars']"
      ]
     },
     "execution_count": 35,
     "metadata": {},
     "output_type": "execute_result"
    }
   ],
   "source": [
    "ratings[:10]"
   ]
  },
  {
   "cell_type": "code",
   "execution_count": 37,
   "metadata": {
    "colab": {
     "base_uri": "https://localhost:8080/"
    },
    "id": "-NiAwvSzgrCA",
    "outputId": "13cd4296-6fd3-4ec0-aa80-4abafe96ebc1"
   },
   "outputs": [
    {
     "data": {
      "text/plain": [
       "['Reviewed in India on 16 July 2021',\n",
       " 'Reviewed in India on 8 June 2021',\n",
       " 'Reviewed in India on 11 September 2022',\n",
       " 'Reviewed in India on 9 September 2022',\n",
       " 'Reviewed in India on 27 July 2022',\n",
       " 'Reviewed in India on 28 August 2022',\n",
       " 'Reviewed in India on 18 September 2022',\n",
       " 'Reviewed in India on 14 September 2022',\n",
       " 'Reviewed in India on 16 April 2021',\n",
       " 'Reviewed in India on 16 September 2022']"
      ]
     },
     "execution_count": 37,
     "metadata": {},
     "output_type": "execute_result"
    }
   ],
   "source": [
    "dates[:10]"
   ]
  },
  {
   "cell_type": "code",
   "execution_count": 28,
   "metadata": {
    "colab": {
     "base_uri": "https://localhost:8080/",
     "height": 36
    },
    "id": "Z3b3sbZDgsET",
    "outputId": "bcc9dcde-ec5e-498b-db69-7d4ffbef77cf"
   },
   "outputs": [
    {
     "data": {
      "application/vnd.google.colaboratory.intrinsic+json": {
       "type": "string"
      },
      "text/plain": [
       "'ghdsghdsh djhhjdsf'"
      ]
     },
     "execution_count": 28,
     "metadata": {},
     "output_type": "execute_result"
    }
   ],
   "source": [
    "d = \" ghdsghdsh djhhjdsf \"\n",
    "d.strip()"
   ]
  },
  {
   "cell_type": "code",
   "execution_count": 38,
   "metadata": {
    "colab": {
     "base_uri": "https://localhost:8080/"
    },
    "id": "E14suv9JjGwg",
    "outputId": "3efae82d-6501-4ae6-b2e1-b205da5d0e6e"
   },
   "outputs": [
    {
     "data": {
      "text/plain": [
       "['Reviewed', 'in', 'India', 'on', '16', 'July', '2021']"
      ]
     },
     "execution_count": 38,
     "metadata": {},
     "output_type": "execute_result"
    }
   ],
   "source": [
    "dates[0].split()"
   ]
  },
  {
   "cell_type": "code",
   "execution_count": 40,
   "metadata": {
    "colab": {
     "base_uri": "https://localhost:8080/"
    },
    "id": "BNSa485RkJl7",
    "outputId": "1f99ebca-c06b-4ac5-ba66-5a99e92cd880"
   },
   "outputs": [
    {
     "data": {
      "text/plain": [
       "['16', 'July', '2021']"
      ]
     },
     "execution_count": 40,
     "metadata": {},
     "output_type": "execute_result"
    }
   ],
   "source": [
    "x=dates[0].split()[-3:]\n",
    "x"
   ]
  },
  {
   "cell_type": "code",
   "execution_count": 42,
   "metadata": {
    "colab": {
     "base_uri": "https://localhost:8080/",
     "height": 36
    },
    "id": "wCJiIGBMkQTA",
    "outputId": "2cf994b7-0a36-4a82-ed1c-f43b52e00a72"
   },
   "outputs": [
    {
     "data": {
      "application/vnd.google.colaboratory.intrinsic+json": {
       "type": "string"
      },
      "text/plain": [
       "'16 July 2021'"
      ]
     },
     "execution_count": 42,
     "metadata": {},
     "output_type": "execute_result"
    }
   ],
   "source": [
    "x = \" \".join([x[0],x[1],x[2]])\n",
    "x"
   ]
  },
  {
   "cell_type": "code",
   "execution_count": 43,
   "metadata": {
    "colab": {
     "base_uri": "https://localhost:8080/",
     "height": 36
    },
    "id": "OKrCgacTkxCB",
    "outputId": "251adf8a-7e2d-4a83-876c-9dee0815fe78"
   },
   "outputs": [
    {
     "data": {
      "application/vnd.google.colaboratory.intrinsic+json": {
       "type": "string"
      },
      "text/plain": [
       "'5.0 out of 5 stars'"
      ]
     },
     "execution_count": 43,
     "metadata": {},
     "output_type": "execute_result"
    }
   ],
   "source": [
    "ratings[0]"
   ]
  },
  {
   "cell_type": "code",
   "execution_count": 44,
   "metadata": {
    "colab": {
     "base_uri": "https://localhost:8080/",
     "height": 36
    },
    "id": "d7e1pkvolBST",
    "outputId": "5d5f55df-5e6e-4103-a5fa-8343e47322c4"
   },
   "outputs": [
    {
     "data": {
      "application/vnd.google.colaboratory.intrinsic+json": {
       "type": "string"
      },
      "text/plain": [
       "'5'"
      ]
     },
     "execution_count": 44,
     "metadata": {},
     "output_type": "execute_result"
    }
   ],
   "source": [
    "ratings[0][0]"
   ]
  },
  {
   "cell_type": "code",
   "execution_count": 45,
   "metadata": {
    "colab": {
     "base_uri": "https://localhost:8080/"
    },
    "id": "_GXfjTXJlGUa",
    "outputId": "43b1629c-6d19-4784-dcfb-17d7f950c85f"
   },
   "outputs": [
    {
     "data": {
      "text/plain": [
       "str"
      ]
     },
     "execution_count": 45,
     "metadata": {},
     "output_type": "execute_result"
    }
   ],
   "source": [
    "type(ratings[0][0])"
   ]
  },
  {
   "cell_type": "code",
   "execution_count": 46,
   "metadata": {
    "colab": {
     "base_uri": "https://localhost:8080/"
    },
    "id": "xKe6TE2KlJ6m",
    "outputId": "dabe607e-0f4c-45e4-ea95-e352d829c066"
   },
   "outputs": [
    {
     "data": {
      "text/plain": [
       "5.0"
      ]
     },
     "execution_count": 46,
     "metadata": {},
     "output_type": "execute_result"
    }
   ],
   "source": [
    "y = float(ratings[0][0])\n",
    "y"
   ]
  },
  {
   "cell_type": "code",
   "execution_count": 47,
   "metadata": {
    "colab": {
     "base_uri": "https://localhost:8080/"
    },
    "id": "s_UfyP1YlYuW",
    "outputId": "47f1190a-d213-41a1-9185-e59da997b289"
   },
   "outputs": [
    {
     "data": {
      "text/plain": [
       "float"
      ]
     },
     "execution_count": 47,
     "metadata": {},
     "output_type": "execute_result"
    }
   ],
   "source": [
    "type(y)"
   ]
  },
  {
   "cell_type": "code",
   "execution_count": 48,
   "metadata": {
    "colab": {
     "base_uri": "https://localhost:8080/",
     "height": 140
    },
    "id": "2OauvvWJlax5",
    "outputId": "3d1fc06f-c863-4aac-9d2b-87a43cfea772"
   },
   "outputs": [
    {
     "data": {
      "application/vnd.google.colaboratory.intrinsic+json": {
       "type": "string"
      },
      "text/plain": [
       "'Since my OnePlus 7 conked off out of nowhere one fine day, I was forced to scout for a new phone on a very short term basis. Because of this, I had to move from a phone in the budget premium segment to a higher trim phone within the midrange segment. I will be writing this review from this perspective. I have been using this phone as my main device since the 4th of July, and I\\'ve written this review after using this phone for a little under two weeks.One of the biggest things that got my eye was the beautiful Samsung AMOLED display. It is on par with, if not better than my older OnePlus 7. The blacks are beautiful and I could tell that MI did not skimp out on this segment. However, I do feel that their touch sensor could use some improvement, as I find myself mistouching a lot of buttons on it. Also, the screen tends to have a significant flashing problem, especially during the night. While I don\\'t think this is a very frequent issue, do keep this in mind when making a purchase. Another great thing about the screen is the refresh rate. While 120 Hz does make a noticeable difference to the speed at which images and frames move, over time it didn\\'t feel too prominent. Also, most websites do not have the silky smooth scrolling, thus, making it feel a bit alienating. That being said, the refresh rate is very noticeable for sure.The build quality of the phone is quite good for the price. While the phone does have a plastic back, it doesn\\'t feel cheap and feels quite sturdy in the hand. The aluminum sides give it a very premium look, even when coupled with the glass back. That being said, having seen the durability tests on youtube, which seemed to highlight that the phone has a lot of vulnerabilities in the build sturdiness. So I\\'d recommend treating this phone and putting a case on it if using it.The software experience is not too bad. I love the amount of customisation MIUI offers, from the huge selection of user made themes available, to the smaller quality of life changes from the ability to hide the notch to the ability to go as far as changing the phones font. However I did notice that the phone forces apps to go an dark mode when dark mode is turned on, which causes some images appear incorrectly on the apps. Also, there are times when the screen goes completely unresponsive, and forcing a shutdown is the only way to get the phone back to normal. Other than this, the software is good. A major plus is the fact that the phone comes with Android 11 out of the box, and the phone doesn\\'t have any heating issues. The only time I noticed heating issues is when the phone was running a video call in windowed mode. Since this puts the phone under a considerable amount of load, I would give it a pass. Another thing I would like to bring to light is the fact that flashing an custom ROM will take a few days, as MI seems to have a weird approval system.A major positive about the phone is the camera. The camera works wonderfully, whether the app being used is the stock camera or GCam. When compared to GCam, the stock camera seems to churn out more brighter images. However, I think that GCam churns out more \"accurate\" images. There is an beautification effect on selfies which is not very noticeable on the stock camera app, but when compared to images taken through GCam, which are a lot more accurate, it becomes very obvious. To sum up the camera performance however, it is excellent and extremely reliable. Definitely worth going for if you want to take great high quality pictures. The Wide Angle camera could use some improvement, but the Macro and the main 64 MP shooter are absolutely wonderful.I cannot comment on the battery life yet as I haven\\'t used my phone for a full day outside yet. But from what I can tell the battery has given me 8 hours SOT on light usage when going from 30-100, which is impressive. The battery doesn\\'t discharge fast as well. However, it is to be noted that I mostly use my phone on the 60 Hz setting, so my results can vary greatly from the others. The phone charges fast enough, but since I rarely charge my phone to a full battery, preferring to do it in small spurts instead, I cannot say much about the charging speed other than saying that it charges fast.One positive change that Xiaomi seemed to have implemented in the current set of phones is the fact that there are no ads inbuilt in important UI areas, like settings and the notification bar. Having used the Redmi Note 4 in the past, I can tell that this used to be the case for their older devices. This seems to have been done in response to pressure from users and influencers. That being said, their inbuilt preloaded applications do display many advertisements through notifications and can easily be turned off by stopping notifications from said apps. Once this is done, then you won\\'t see advertisements in the phone at all. I must note that Xiaomi\\'s business model for their budget devices revolves around these advertisements (they refer to it as services), it is to be expected in their Redmi line of devices. I am pointing this out to show that there is an extra cost the end user pays for due to the low budget margins of these budget devices, and that cost comes in the form of these advertisements in the UI. This business model is implemented so that they can offer better value as compared to their competitors.While I am not a huge mobile gamer anymore, I have tried playing Battlegrounds India for around half an hour just to see how it was. The game worked well, and there didn\\'t seem to be much of a difference in real time performance as compared to my older OnePlus 7. I did not notice any heating on the device. However, it is to be noted that the OnePlus 7 has a much higher AnTuTu benchmark rating as compared to this phone. While this phone is certainly not a slouch when it comes to gaming, I think that the POCO X3 Pro is a much better pick than the Redmi Note 10 Pro if gaming is a priority given its powerful SD 860 chipset.The speakers are really loud and play music really clearly. They work significantly better than the speakers on my older OnePlus device. I was also happy to get the headphone jack back as well, and it works well with my current KZ Edx OEMs. I\\'m happy to note that the phone provides the option to expand storage which I definitely will be taking advantage of in the future.So, to sum it up, the phone is a good pick in this price range, due to its well rounded offerings. The camera, the display, the speakers, and the battery life come together to make this phone a good package. There are minor hitches with the software that could be improved in the future, and the vulnerabilities in the build are a cause for concern. However, as long as used properly and carefully, I really don\\'t think that anything will happen to the device.Salient points from the above observations:1. The phone has a good and premium looking design. However there are questions about the durability.2. The phone has a great and reliable camera, human faces are given a \"beautification\" effect by the stock camera.3. There are issues with the software, such as a flashing display and an aggressive dark mode, along with random freezes.4. The battery life is quite decent and the phone lasts long.5. Has an acceptable gaming performance, but there are better picks in this price range for this purpose, like the POCO X3 Pro.6. Ads are only present in the pre-loaded apps, can be disabled by turning off all notifications from these apps.7. The phone has a wait time before allowing the bootloader to be unlocked, to be noted if you want to flash a ROM on this device.10. Has a beautiful display that competes strongly with my older OnePlus 7.Note: I have not used the Fingerprint sensor as I don\\'t want to store my biometric data on the device.'"
      ]
     },
     "execution_count": 48,
     "metadata": {},
     "output_type": "execute_result"
    }
   ],
   "source": [
    "reviews[0]"
   ]
  },
  {
   "cell_type": "code",
   "execution_count": 50,
   "metadata": {
    "id": "lIUivLXwl7iH"
   },
   "outputs": [],
   "source": [
    "for page in range(1,51):\n",
    "  url = f\"https://www.amazon.in/Test-Exclusive_2020_1153-Multi-3GB-Storage/product-reviews/B089MSK43J/ref=cm_cr_getr_d_paging_btm_prev_1?ie=UTF8&reviewerType=all_reviews&pageNumber={page}\"\n",
    "  browser.get(url)\n",
    "  containers = [x.get_attribute('innerHTML') for x in browser.find_elements(By.XPATH,\"//div[@class='a-section celwidget']\")]\n"
   ]
  },
  {
   "cell_type": "code",
   "execution_count": 51,
   "metadata": {
    "colab": {
     "base_uri": "https://localhost:8080/"
    },
    "id": "8mMVsuEkndjx",
    "outputId": "80a1e33d-6f71-491f-f2ec-ec2295c9490d"
   },
   "outputs": [
    {
     "data": {
      "text/plain": [
       "10"
      ]
     },
     "execution_count": 51,
     "metadata": {},
     "output_type": "execute_result"
    }
   ],
   "source": [
    "len(containers)"
   ]
  },
  {
   "cell_type": "code",
   "execution_count": 153,
   "metadata": {
    "id": "nReMRGi0oVTu"
   },
   "outputs": [],
   "source": [
    "dataset = []\n",
    "for page in range(1,3):\n",
    "  url = f\"https://www.amazon.in/Test-Exclusive_2020_1153-Multi-3GB-Storage/product-reviews/B089MSK43J/ref=cm_cr_getr_d_paging_btm_prev_1?ie=UTF8&reviewerType=all_reviews&pageNumber={page}\"\n",
    "  browser.get(url)\n",
    "  containers = [x.get_attribute('innerHTML') for x in browser.find_elements(By.XPATH,\"//div[@class='a-section celwidget']\")]\n",
    "  #print(len(containers))\n",
    "  for container in containers:\n",
    "    reviews=[]\n",
    "    ratings=[]\n",
    "    dates=[]\n",
    "    bsObj = BeautifulSoup(container)\n",
    "    rev = bsObj.find(\"span\",attrs={\"class\":\"a-size-base review-text review-text-content\"}).text.strip()\n",
    "    reviews.append(rev)\n",
    "\n",
    "    dt = bsObj.find(\"span\",attrs={\"class\":\"a-size-base a-color-secondary review-date\"}).text.strip()\n",
    "    dates.append(dt)\n",
    "\n",
    "    rating = bsObj.find(\"a\",attrs={\"class\":\"a-link-normal\"}).text.strip()\n",
    "    ratings.append(rating)\n",
    "\n",
    "    dataset.append([dates,reviews,ratings])"
   ]
  },
  {
   "cell_type": "code",
   "execution_count": 154,
   "metadata": {
    "colab": {
     "base_uri": "https://localhost:8080/"
    },
    "id": "5qgRO-X1pV89",
    "outputId": "506cf27f-065b-4a25-c550-c116263dc5e1"
   },
   "outputs": [
    {
     "data": {
      "text/plain": [
       "[[['Reviewed in India on 16 July 2021'],\n",
       "  ['Since my OnePlus 7 conked off out of nowhere one fine day, I was forced to scout for a new phone on a very short term basis. Because of this, I had to move from a phone in the budget premium segment to a higher trim phone within the midrange segment. I will be writing this review from this perspective. I have been using this phone as my main device since the 4th of July, and I\\'ve written this review after using this phone for a little under two weeks.One of the biggest things that got my eye was the beautiful Samsung AMOLED display. It is on par with, if not better than my older OnePlus 7. The blacks are beautiful and I could tell that MI did not skimp out on this segment. However, I do feel that their touch sensor could use some improvement, as I find myself mistouching a lot of buttons on it. Also, the screen tends to have a significant flashing problem, especially during the night. While I don\\'t think this is a very frequent issue, do keep this in mind when making a purchase. Another great thing about the screen is the refresh rate. While 120 Hz does make a noticeable difference to the speed at which images and frames move, over time it didn\\'t feel too prominent. Also, most websites do not have the silky smooth scrolling, thus, making it feel a bit alienating. That being said, the refresh rate is very noticeable for sure.The build quality of the phone is quite good for the price. While the phone does have a plastic back, it doesn\\'t feel cheap and feels quite sturdy in the hand. The aluminum sides give it a very premium look, even when coupled with the glass back. That being said, having seen the durability tests on youtube, which seemed to highlight that the phone has a lot of vulnerabilities in the build sturdiness. So I\\'d recommend treating this phone and putting a case on it if using it.The software experience is not too bad. I love the amount of customisation MIUI offers, from the huge selection of user made themes available, to the smaller quality of life changes from the ability to hide the notch to the ability to go as far as changing the phones font. However I did notice that the phone forces apps to go an dark mode when dark mode is turned on, which causes some images appear incorrectly on the apps. Also, there are times when the screen goes completely unresponsive, and forcing a shutdown is the only way to get the phone back to normal. Other than this, the software is good. A major plus is the fact that the phone comes with Android 11 out of the box, and the phone doesn\\'t have any heating issues. The only time I noticed heating issues is when the phone was running a video call in windowed mode. Since this puts the phone under a considerable amount of load, I would give it a pass. Another thing I would like to bring to light is the fact that flashing an custom ROM will take a few days, as MI seems to have a weird approval system.A major positive about the phone is the camera. The camera works wonderfully, whether the app being used is the stock camera or GCam. When compared to GCam, the stock camera seems to churn out more brighter images. However, I think that GCam churns out more \"accurate\" images. There is an beautification effect on selfies which is not very noticeable on the stock camera app, but when compared to images taken through GCam, which are a lot more accurate, it becomes very obvious. To sum up the camera performance however, it is excellent and extremely reliable. Definitely worth going for if you want to take great high quality pictures. The Wide Angle camera could use some improvement, but the Macro and the main 64 MP shooter are absolutely wonderful.I cannot comment on the battery life yet as I haven\\'t used my phone for a full day outside yet. But from what I can tell the battery has given me 8 hours SOT on light usage when going from 30-100, which is impressive. The battery doesn\\'t discharge fast as well. However, it is to be noted that I mostly use my phone on the 60 Hz setting, so my results can vary greatly from the others. The phone charges fast enough, but since I rarely charge my phone to a full battery, preferring to do it in small spurts instead, I cannot say much about the charging speed other than saying that it charges fast.One positive change that Xiaomi seemed to have implemented in the current set of phones is the fact that there are no ads inbuilt in important UI areas, like settings and the notification bar. Having used the Redmi Note 4 in the past, I can tell that this used to be the case for their older devices. This seems to have been done in response to pressure from users and influencers. That being said, their inbuilt preloaded applications do display many advertisements through notifications and can easily be turned off by stopping notifications from said apps. Once this is done, then you won\\'t see advertisements in the phone at all. I must note that Xiaomi\\'s business model for their budget devices revolves around these advertisements (they refer to it as services), it is to be expected in their Redmi line of devices. I am pointing this out to show that there is an extra cost the end user pays for due to the low budget margins of these budget devices, and that cost comes in the form of these advertisements in the UI. This business model is implemented so that they can offer better value as compared to their competitors.While I am not a huge mobile gamer anymore, I have tried playing Battlegrounds India for around half an hour just to see how it was. The game worked well, and there didn\\'t seem to be much of a difference in real time performance as compared to my older OnePlus 7. I did not notice any heating on the device. However, it is to be noted that the OnePlus 7 has a much higher AnTuTu benchmark rating as compared to this phone. While this phone is certainly not a slouch when it comes to gaming, I think that the POCO X3 Pro is a much better pick than the Redmi Note 10 Pro if gaming is a priority given its powerful SD 860 chipset.The speakers are really loud and play music really clearly. They work significantly better than the speakers on my older OnePlus device. I was also happy to get the headphone jack back as well, and it works well with my current KZ Edx OEMs. I\\'m happy to note that the phone provides the option to expand storage which I definitely will be taking advantage of in the future.So, to sum it up, the phone is a good pick in this price range, due to its well rounded offerings. The camera, the display, the speakers, and the battery life come together to make this phone a good package. There are minor hitches with the software that could be improved in the future, and the vulnerabilities in the build are a cause for concern. However, as long as used properly and carefully, I really don\\'t think that anything will happen to the device.Salient points from the above observations:1. The phone has a good and premium looking design. However there are questions about the durability.2. The phone has a great and reliable camera, human faces are given a \"beautification\" effect by the stock camera.3. There are issues with the software, such as a flashing display and an aggressive dark mode, along with random freezes.4. The battery life is quite decent and the phone lasts long.5. Has an acceptable gaming performance, but there are better picks in this price range for this purpose, like the POCO X3 Pro.6. Ads are only present in the pre-loaded apps, can be disabled by turning off all notifications from these apps.7. The phone has a wait time before allowing the bootloader to be unlocked, to be noted if you want to flash a ROM on this device.10. Has a beautiful display that competes strongly with my older OnePlus 7.Note: I have not used the Fingerprint sensor as I don\\'t want to store my biometric data on the device.'],\n",
       "  ['5.0 out of 5 stars']],\n",
       " [['Reviewed in India on 8 June 2021'],\n",
       "  [\"Bought this smartphone for a discount of 17500 for 8/128GB for the Glacial Blue version.Initial impressions, I was quite sceptical when buying this phone looking at the reviews from Amazon, but I must say, I'm happy that the reviews were wrong.My previous phone was a Realme 5 Pro and although that phones had it's pros and cons, but the cons mostly was what made me unhappy with the phone.Since, I recently got into watching HDR content and wanted those color accuracy and deep blacks in a budget, this was only reason to buy this smartphone.But in terms of other departments too, it's quite an all rounder.In terms of looks, this phone is quite a looker, even if you are just holding the phone in your hand, people do notice it, and it's Glacial matte blue back looks fantastic.The display is just brilliant, 120hz felt buttery smooth and there was no lags, the phone switched the 60hz when you watching videos, or the screen is still which is good for the battery too. The colors are accurate and setting it to auto + warm gave the most accurate color reproduction,  really do enjoy watching my HDR10 4K content. The phone supports HDR10+ too, and has Widevine L1 support, sadly prime and Netflix do not show HDR content but 1080p looks great too.In hand feel, the phone is well balanced and even at 192g for the screen size, it does not feel heavy, and compared to my older phone, this is quite thin and feels great when holding.This has a stereo speaker system, and although not as balanced (60/40) makes up for a good content viewing compared the having just one mono speaker.Cameras are reasonably sharp and clear and since my only usage for camera is scanning docs, I can't say much in this department. Other than that, I did try some macro shots and the bump from 2MP to 5MP actually results in quite good shots.The fingerprint sensor which also is the power button is snappy works error free.Connectivity is great, the network range is good and I did not found any issues, I'm using a Vodafone Sim and volte and vowifi works perfectly, now some people would argue that at this timeline, I should have bought a 5G phone instead, but I personally feel 5G phones at this point is just a gimmick and branding and since official 5G bands have not beens released by the telecom operator yet, buying it now is quite useless. Overall buying the first generation at this price point, and cutting corners in other areas is stupid. If you really want a 5G phone, I suggest you then wait.I use VPN for my work, and it worked well, even after the vpn appn closed and there were no disconnections.Performance? Well, I'm not a gamer or a heavy user for that matter, but for basic day to day usage, I had no lags and everything worked quite well and since it has 8GB of ram, I tried having multiple application in the background and they all worked without closing, if I needed any app to stay no matter what there is option to lock it.Now coming to the elephant in the room, that is the MIUI. 😅 Hmm.... Good actually, no actually great!! 😀 Only, if you tweak it a bit, now no no, I'm not saying you need root your smartphone okay, first, where miui is done right, the calling and messaging is native by Google, there is just the stock browser app that is chrome, and few pre installed that can be uninstalled. There is a application that can remove getapps, I did just that, no notification, no ads, also removed the option the scan apps on every installed, disabled all recommendation and finally it's lightning smooth and all apps work great, and even the ui has its miner implementation and better accessing.Final Verdict - Should you buy it? If camera is not important to you and you are willing to get around the miui things, then definitely yes, other than, I don't really see any other better competition for the price bracket with an amoled display.Would update this, if there is something ever gone wrong.UPDATE: After 2 weeks of usage, found some issues.1. There are some optimization issues, don't know if it's a app bug or miui itself, but at 120hz, if youtube is being played in pip mode, the phone stutters a bit.2. Playing at 2160p youtube consumes good amount of battery, this is not a lot but if you are someone who watches for a long time and want the best battery too, try to max out at 1440p.3. Battery performance is actually amazing, keeping the phone at 120hz got me atleast 1+1/2 days of usage, with 8.3 hours of screen on time. Now that is wow.4. 33W fast charger is adequate and doesn't get hot, but not well optimized if you are also using the screen while its being charged.5. If you disable lockscreen notification, you don't get an playback controls on notification for any apps. Turning it on, makes that the playback controls never ever go, it's stuck on the top forever. (maybe it's a feature?)6. Proximity Sensor. Yes. I feel Xiaomi ommited it. It's fine for calls of short duration but if you are talking for hours, you will get issues, like getting muted or speaker tuning on etc. Not really a issue for me, since i barely use or get calls once a week.7. Phone doesn't really get hot, but miui still does need to optimize this device a bit more, but i doubt they'd do that, since they are launching so many phones in such a short time.8. I liked them superwallpapers, but turning on ultra power saver, defaults the amoled ss.9. Would be nice of they remove the 10 second limit of amoled ss.10. Case is already going yellow. Lol.11. Oh last, don't know what people say about background app optimization issue, but that is working just fine for me.I'm still happy with my device, it's well balanced, looks good, works good too. Plus 8GB of ram is a banger. No ads, none.Rating changed from 5stars to 4.\"],\n",
       "  ['4.0 out of 5 stars']],\n",
       " [['Reviewed in India on 11 September 2022'],\n",
       "  [\"Got this phone for 15,499 on Amazon. It's a decent but for this price range.Camera is so-so. I expected from a 64MP camera but it doesn't have that much quality. It clicks decent pictures.Battery life is good. Lasts all day with a single charge in morning.Haven't tried gaming on it but the processor is fast and display is also good.Nice look and feel. It's a good product for this price range, I think.\"],\n",
       "  ['4.0 out of 5 stars']],\n",
       " [['Reviewed in India on 9 September 2022'],\n",
       "  ['The phone is overall quite good but only one major issue that i faced was that when i used an sd card that had some data stored from my previous phone,the device did not show any previous data that was already there on the card,and even after trying multiple methods to sort that problem,nothing helped,and that is the only thing that disappointed me very much.Apart from that everything is pretty good.'],\n",
       "  ['4.0 out of 5 stars']],\n",
       " [['Reviewed in India on 27 July 2022'],\n",
       "  [\"I am writing this review after one week of usage. Upgraded to Android 12.Positives:1.Dispaly and touch- It is amazing. Premium look. They nailed it. The colour contrast is amazing, on par or even better than one plus. Also you can choose between 60hz and 120hz. The touch is seamless even in 60hz. Reading an eBook or watching a high quality video feels very great as the screen size is 6.6inch. (Try watching a 4k video with lights off . One hell of a viewing)2.Build and appearance- I bought dark Knight. I love the look. The build gives premium look. The gorilla Glass at the back looks fantabulous. At this price range it gives flagship feel.3.Fingerprint sensor- The main advantage of this fingerprint sensor is it is side mounted. So very comfortable to use. User friendly.4. Camera- The camera is very good at this price range. Night mode is very satisfying. Other modes are good if the light flow is good. We cant expect great low light photos at this price range.5. Processor- It offers Snapdragon732. Almost all other mobiles at this price range gives lower than 732. So it's a win.6. Speed - Haven't played heavy games yet. So far no lag after multiple apps opened and videos watched. No heating issues so far.Negatives:1.Battery- 10 pro offers 5000mah battery. But it doesn't feel so. Discharges rather fast than expected. Battery lasts for almost a day( can't say whole day) without gaming. But it was promoted as doing better than that . Average users won't find it hard. But heavy users will find it annoying.2. Charging- It was promoted as fast charging. But takes a solid 1.20 hours for full charge. And not as fast as other fast charging phones in the same category.Bottom line: Go for it for a premium experience.\"],\n",
       "  ['4.0 out of 5 stars']],\n",
       " [['Reviewed in India on 28 August 2022'],\n",
       "  [\"I bought the phone in drcmber of 2021 and till now it has beem having some bugs in the phone, whenever I receive a whatsApp call, the call dosent show up and to accept the call u will have to open the whatsApp to accept the call. Today, the screen suddenly went static and there was no response on the screen and i had to restart phone. The phone haven't even dropped a single time. This phone has broken my trust in redmi and would not recommend anyone else\"],\n",
       "  ['4.0 out of 5 stars']],\n",
       " [['Reviewed in India on 18 September 2022'],\n",
       "  ['Display is good . Battery is also decent gives 6hrd backup on heavy usage and 7-8hrs on normal usage. Speakers good. Performance is decent on 120hz.overall good phone.'],\n",
       "  ['4.0 out of 5 stars']],\n",
       " [['Reviewed in India on 14 September 2022'],\n",
       "  ['Good in this segment but some battery issues after miui 12.5 update'],\n",
       "  ['4.0 out of 5 stars']],\n",
       " [['Reviewed in India on 16 April 2021'],\n",
       "  [\"Here is my review of the two unit I have received (first exchanged for battery life and some touch issues  & second for again for battery drainage almost 20-25% at night ) and I will mention all the pros and cons of the device and whether you should buy it or look for alternative.- Every mobile should be judged on 7 things1. Design and Build : PRO :  Full 5 stars rating should be given to the device build and design. It looks so amazing in the glacier blue color with matte finish. The device feels light and well balanced in hand.2. Display : PRO : Again xiaomi just blows the competition in display department as no other phone in the price range provides Amoled 120hz screen. The colors are really vibrant with deep blacks. Auto brightness works fine outdoor but in low light sometimes it struggles.3. Battery : PRO & CON both : My first unit had an average battery life and worst charging speed. I got around 5-5.5 hours screen on time with moderate usage and my unit took almost 2-2.5 hours everytime to full charge that too from 15-25% not from zero. And my second unit had the worst idle time. It lost almost 20-25% battery at night on idle with just wifi on and no background apps running but battery life was great with 6-7 hours of screen on time. If you receive the good unit the battery life is really good for an average user and charging speed is almost 1.5-2 hours to full charge.4. Camera : Decent ( not PRO not CON) : If your are photo enthusiast than this camera will disappoint you. Don't fall for the youtubers review as mostly are paid. Yes the camera is decent not good because in good lighting condition it takes good photo and dynamic range is great both indoor and outdoor. But once you are indoor or little less light condition, the photos are noisy and colors are also boosted. The zoomed photos are very worst don't take any zoomed photos as they very noisy, no details and sometimes pixelated. The seflies again grainy and less detailed. Night time photos are also not good in details. The only good in the camera is the super macro which works really well. For a average user the camera is good but for a person who loves taking photos this camera needs improvement. Though GCAM can fix the camera issue but right now any good GCAM is not available.5. Performance : PRO : The sd732G processor is almost perfect for its price range. I ran Genshin Impact, Asphalt 9, shadow fight 4 like heavy games. And all the games played without any frame drops though you need to lower graphics settings on some games. The day to day usage was breeze, no frame drops while switching apps. The apps were in memory. Though if you use game boost will it remove some apps from memory.6. Software : MIUI is a kind of love or hate relationship, but the UI with 120hz feels smooth and I did not encounter any lag issue. The at time of setup just unmark all the personalization and recommendation, so you will not receive any unnecessary notification. Disable getapps notification and you are good to go. Yes there are some bloatware but you uninstall them. Dark-theme works really fine and with amoled screen it just gets better. The always on-display is good but not very helpful as it just shows notification icon of the app on the message it self which just represent on my MOTO G5 plus amibient display. And with MIUI you get alot of customization.7. Network and speakers : With stereo dual speakers it loud and video experience is great. The call quality is also good with no drop calls.  The phone also supports network aggregation which is always good. Yes it lacks 5G but proper 5G is still 2 years down the line so don't make your buying choice on that is lacks 4G.Overall for the given price Redmi Note 10 Pro provides full bang for your money. And if you are gamer than only go for POCO X3 PRO.\"],\n",
       "  ['4.0 out of 5 stars']],\n",
       " [['Reviewed in India on 16 September 2022'],\n",
       "  ['Very good phone'],\n",
       "  ['4.0 out of 5 stars']],\n",
       " [['Reviewed in India on 16 July 2022'],\n",
       "  [\"One of the most eligible phone which can walk on your expectation even though it's one year old at this price segment. I managed to grab 6gb 128 gb version at rs14000 through applying various discounts. It has been now 15 days of using it therefore I am writing this review.  Now let's talk about pros first-screen : one word super fantabulous display with eye catching colours and contrast.And believe me it scrolls like makkhan.Battery:Really long lasting , it easily survive one day even after heavy usage.Charging: Not superfast charging but fast charges the phone because of 33  watt charger.Camera: back camera is quite good need not to mention macro.Processing: Easily manage day to day task and heavy games like COD and BGMI..Sound:O my god super crystal clear due to dual stereo speaker and dolby support.MIUI: first time i have seen miui to be such clean and also has many new functions.Design and look: Good design with less chin on front side and glossy design at back.CONS:1) Front camera is really poor and dull l m very much disappointed.2) fingerprint sensor is side mounted yet it doesn't reads sometimes.3) charging is not superfast but due to good battery backup it is manageable.Conclusion:You can definitely go for it because no one can stand with this phone at this price range considering so much specifications.. I have attached some photos of it as well as back camera samples in normal and wide angle.\"],\n",
       "  ['4.0 out of 5 stars']],\n",
       " [['Reviewed in India on 13 September 2022'],\n",
       "  ['All department Good'],\n",
       "  ['4.0 out of 5 stars']],\n",
       " [['Reviewed in India on 13 September 2022'],\n",
       "  ['Take 11 series phones.'],\n",
       "  ['4.0 out of 5 stars']],\n",
       " [['Reviewed in India on 7 September 2022'],\n",
       "  ['Phone is awsome at this price. Very good camera, battery life and no lagging.'],\n",
       "  ['4.0 out of 5 stars']],\n",
       " [['Reviewed in India on 11 September 2022'],\n",
       "  ['Best phone in the price segment'],\n",
       "  ['4.0 out of 5 stars']],\n",
       " [['Reviewed in India on 13 September 2022'],\n",
       "  ['Good'],\n",
       "  ['4.0 out of 5 stars']],\n",
       " [['Reviewed in India on 9 September 2022'],\n",
       "  ['One of the best 4g phone under 15k'],\n",
       "  ['4.0 out of 5 stars']],\n",
       " [['Reviewed in India on 13 September 2022'],\n",
       "  ['Totally good'],\n",
       "  ['4.0 out of 5 stars']],\n",
       " [['Reviewed in India on 5 July 2022'],\n",
       "  [\"I have been using Redmi note 9 pro max from past 1.5 years and i was satisfied and it was mostly running fine.I planned to upgrade and went for one plus 9rt but to my surprise the device was having heating and battery drain issue.I paid 42k something for the device 12gb variant and was like disappointed on having sub par experience and felt Redmi is better.At the end after some research i went with Redmi 10 pro as a short term alternative unless a proper device without any issues comes at least for a year.This device has a good amoled screen. I love it.Speakers are nice. They give the stereo experience.Battery life is avg compared to Redmi note 9 pro max which is absolute beast compared to this.I feel Xiaomi has reduced the charge speed coz when I got Redmi 9 pro max which has same battery and charger it was getting fully charged in less than an hour but then after updated it did not and it's the same case with Redmi 10 pro.Initially i was running miui12.5 which was really annoying and jittery. I felt I should shift back to my Redmi 9 pro max but then I updated it to miui 13 and Android 12 and the experience improved massively.Additionally I have turned off animation for a faster experience.I feel this is a perfect combination for me.If you are low on budget or looking for a phone for 1-1.5 years you can go for it.\"],\n",
       "  ['4.0 out of 5 stars']],\n",
       " [['Reviewed in India on 23 August 2022'],\n",
       "  [\"The camera cannot capture stable photos.64 megapixel photos look like animation (Cartoon). Can't optimize properly.Otherwise macro, ultra wide camera and the whole mobile is very very good.\"],\n",
       "  ['4.0 out of 5 stars']]]"
      ]
     },
     "execution_count": 154,
     "metadata": {},
     "output_type": "execute_result"
    }
   ],
   "source": [
    "dataset"
   ]
  },
  {
   "cell_type": "code",
   "execution_count": 155,
   "metadata": {
    "colab": {
     "base_uri": "https://localhost:8080/"
    },
    "id": "Srvs55lzx0lU",
    "outputId": "e40dfd5c-e9ca-4b14-c45f-3ae5bfdc58ce"
   },
   "outputs": [
    {
     "data": {
      "text/plain": [
       "20"
      ]
     },
     "execution_count": 155,
     "metadata": {},
     "output_type": "execute_result"
    }
   ],
   "source": [
    "len(dataset)"
   ]
  },
  {
   "cell_type": "code",
   "execution_count": 156,
   "metadata": {
    "colab": {
     "base_uri": "https://localhost:8080/"
    },
    "id": "CcqKveHBx0zI",
    "outputId": "257ccad2-2353-4109-89e2-eceb1ae4a787"
   },
   "outputs": [
    {
     "data": {
      "text/plain": [
       "[['Reviewed in India on 16 July 2021'],\n",
       " ['Since my OnePlus 7 conked off out of nowhere one fine day, I was forced to scout for a new phone on a very short term basis. Because of this, I had to move from a phone in the budget premium segment to a higher trim phone within the midrange segment. I will be writing this review from this perspective. I have been using this phone as my main device since the 4th of July, and I\\'ve written this review after using this phone for a little under two weeks.One of the biggest things that got my eye was the beautiful Samsung AMOLED display. It is on par with, if not better than my older OnePlus 7. The blacks are beautiful and I could tell that MI did not skimp out on this segment. However, I do feel that their touch sensor could use some improvement, as I find myself mistouching a lot of buttons on it. Also, the screen tends to have a significant flashing problem, especially during the night. While I don\\'t think this is a very frequent issue, do keep this in mind when making a purchase. Another great thing about the screen is the refresh rate. While 120 Hz does make a noticeable difference to the speed at which images and frames move, over time it didn\\'t feel too prominent. Also, most websites do not have the silky smooth scrolling, thus, making it feel a bit alienating. That being said, the refresh rate is very noticeable for sure.The build quality of the phone is quite good for the price. While the phone does have a plastic back, it doesn\\'t feel cheap and feels quite sturdy in the hand. The aluminum sides give it a very premium look, even when coupled with the glass back. That being said, having seen the durability tests on youtube, which seemed to highlight that the phone has a lot of vulnerabilities in the build sturdiness. So I\\'d recommend treating this phone and putting a case on it if using it.The software experience is not too bad. I love the amount of customisation MIUI offers, from the huge selection of user made themes available, to the smaller quality of life changes from the ability to hide the notch to the ability to go as far as changing the phones font. However I did notice that the phone forces apps to go an dark mode when dark mode is turned on, which causes some images appear incorrectly on the apps. Also, there are times when the screen goes completely unresponsive, and forcing a shutdown is the only way to get the phone back to normal. Other than this, the software is good. A major plus is the fact that the phone comes with Android 11 out of the box, and the phone doesn\\'t have any heating issues. The only time I noticed heating issues is when the phone was running a video call in windowed mode. Since this puts the phone under a considerable amount of load, I would give it a pass. Another thing I would like to bring to light is the fact that flashing an custom ROM will take a few days, as MI seems to have a weird approval system.A major positive about the phone is the camera. The camera works wonderfully, whether the app being used is the stock camera or GCam. When compared to GCam, the stock camera seems to churn out more brighter images. However, I think that GCam churns out more \"accurate\" images. There is an beautification effect on selfies which is not very noticeable on the stock camera app, but when compared to images taken through GCam, which are a lot more accurate, it becomes very obvious. To sum up the camera performance however, it is excellent and extremely reliable. Definitely worth going for if you want to take great high quality pictures. The Wide Angle camera could use some improvement, but the Macro and the main 64 MP shooter are absolutely wonderful.I cannot comment on the battery life yet as I haven\\'t used my phone for a full day outside yet. But from what I can tell the battery has given me 8 hours SOT on light usage when going from 30-100, which is impressive. The battery doesn\\'t discharge fast as well. However, it is to be noted that I mostly use my phone on the 60 Hz setting, so my results can vary greatly from the others. The phone charges fast enough, but since I rarely charge my phone to a full battery, preferring to do it in small spurts instead, I cannot say much about the charging speed other than saying that it charges fast.One positive change that Xiaomi seemed to have implemented in the current set of phones is the fact that there are no ads inbuilt in important UI areas, like settings and the notification bar. Having used the Redmi Note 4 in the past, I can tell that this used to be the case for their older devices. This seems to have been done in response to pressure from users and influencers. That being said, their inbuilt preloaded applications do display many advertisements through notifications and can easily be turned off by stopping notifications from said apps. Once this is done, then you won\\'t see advertisements in the phone at all. I must note that Xiaomi\\'s business model for their budget devices revolves around these advertisements (they refer to it as services), it is to be expected in their Redmi line of devices. I am pointing this out to show that there is an extra cost the end user pays for due to the low budget margins of these budget devices, and that cost comes in the form of these advertisements in the UI. This business model is implemented so that they can offer better value as compared to their competitors.While I am not a huge mobile gamer anymore, I have tried playing Battlegrounds India for around half an hour just to see how it was. The game worked well, and there didn\\'t seem to be much of a difference in real time performance as compared to my older OnePlus 7. I did not notice any heating on the device. However, it is to be noted that the OnePlus 7 has a much higher AnTuTu benchmark rating as compared to this phone. While this phone is certainly not a slouch when it comes to gaming, I think that the POCO X3 Pro is a much better pick than the Redmi Note 10 Pro if gaming is a priority given its powerful SD 860 chipset.The speakers are really loud and play music really clearly. They work significantly better than the speakers on my older OnePlus device. I was also happy to get the headphone jack back as well, and it works well with my current KZ Edx OEMs. I\\'m happy to note that the phone provides the option to expand storage which I definitely will be taking advantage of in the future.So, to sum it up, the phone is a good pick in this price range, due to its well rounded offerings. The camera, the display, the speakers, and the battery life come together to make this phone a good package. There are minor hitches with the software that could be improved in the future, and the vulnerabilities in the build are a cause for concern. However, as long as used properly and carefully, I really don\\'t think that anything will happen to the device.Salient points from the above observations:1. The phone has a good and premium looking design. However there are questions about the durability.2. The phone has a great and reliable camera, human faces are given a \"beautification\" effect by the stock camera.3. There are issues with the software, such as a flashing display and an aggressive dark mode, along with random freezes.4. The battery life is quite decent and the phone lasts long.5. Has an acceptable gaming performance, but there are better picks in this price range for this purpose, like the POCO X3 Pro.6. Ads are only present in the pre-loaded apps, can be disabled by turning off all notifications from these apps.7. The phone has a wait time before allowing the bootloader to be unlocked, to be noted if you want to flash a ROM on this device.10. Has a beautiful display that competes strongly with my older OnePlus 7.Note: I have not used the Fingerprint sensor as I don\\'t want to store my biometric data on the device.'],\n",
       " ['5.0 out of 5 stars']]"
      ]
     },
     "execution_count": 156,
     "metadata": {},
     "output_type": "execute_result"
    }
   ],
   "source": [
    "dataset[0]"
   ]
  },
  {
   "cell_type": "code",
   "execution_count": 157,
   "metadata": {
    "colab": {
     "base_uri": "https://localhost:8080/"
    },
    "id": "XOLjlqaQx02f",
    "outputId": "51937043-4501-4011-8254-c13c93594d67"
   },
   "outputs": [
    {
     "data": {
      "text/plain": [
       "[['Reviewed in India on 8 June 2021'],\n",
       " [\"Bought this smartphone for a discount of 17500 for 8/128GB for the Glacial Blue version.Initial impressions, I was quite sceptical when buying this phone looking at the reviews from Amazon, but I must say, I'm happy that the reviews were wrong.My previous phone was a Realme 5 Pro and although that phones had it's pros and cons, but the cons mostly was what made me unhappy with the phone.Since, I recently got into watching HDR content and wanted those color accuracy and deep blacks in a budget, this was only reason to buy this smartphone.But in terms of other departments too, it's quite an all rounder.In terms of looks, this phone is quite a looker, even if you are just holding the phone in your hand, people do notice it, and it's Glacial matte blue back looks fantastic.The display is just brilliant, 120hz felt buttery smooth and there was no lags, the phone switched the 60hz when you watching videos, or the screen is still which is good for the battery too. The colors are accurate and setting it to auto + warm gave the most accurate color reproduction,  really do enjoy watching my HDR10 4K content. The phone supports HDR10+ too, and has Widevine L1 support, sadly prime and Netflix do not show HDR content but 1080p looks great too.In hand feel, the phone is well balanced and even at 192g for the screen size, it does not feel heavy, and compared to my older phone, this is quite thin and feels great when holding.This has a stereo speaker system, and although not as balanced (60/40) makes up for a good content viewing compared the having just one mono speaker.Cameras are reasonably sharp and clear and since my only usage for camera is scanning docs, I can't say much in this department. Other than that, I did try some macro shots and the bump from 2MP to 5MP actually results in quite good shots.The fingerprint sensor which also is the power button is snappy works error free.Connectivity is great, the network range is good and I did not found any issues, I'm using a Vodafone Sim and volte and vowifi works perfectly, now some people would argue that at this timeline, I should have bought a 5G phone instead, but I personally feel 5G phones at this point is just a gimmick and branding and since official 5G bands have not beens released by the telecom operator yet, buying it now is quite useless. Overall buying the first generation at this price point, and cutting corners in other areas is stupid. If you really want a 5G phone, I suggest you then wait.I use VPN for my work, and it worked well, even after the vpn appn closed and there were no disconnections.Performance? Well, I'm not a gamer or a heavy user for that matter, but for basic day to day usage, I had no lags and everything worked quite well and since it has 8GB of ram, I tried having multiple application in the background and they all worked without closing, if I needed any app to stay no matter what there is option to lock it.Now coming to the elephant in the room, that is the MIUI. 😅 Hmm.... Good actually, no actually great!! 😀 Only, if you tweak it a bit, now no no, I'm not saying you need root your smartphone okay, first, where miui is done right, the calling and messaging is native by Google, there is just the stock browser app that is chrome, and few pre installed that can be uninstalled. There is a application that can remove getapps, I did just that, no notification, no ads, also removed the option the scan apps on every installed, disabled all recommendation and finally it's lightning smooth and all apps work great, and even the ui has its miner implementation and better accessing.Final Verdict - Should you buy it? If camera is not important to you and you are willing to get around the miui things, then definitely yes, other than, I don't really see any other better competition for the price bracket with an amoled display.Would update this, if there is something ever gone wrong.UPDATE: After 2 weeks of usage, found some issues.1. There are some optimization issues, don't know if it's a app bug or miui itself, but at 120hz, if youtube is being played in pip mode, the phone stutters a bit.2. Playing at 2160p youtube consumes good amount of battery, this is not a lot but if you are someone who watches for a long time and want the best battery too, try to max out at 1440p.3. Battery performance is actually amazing, keeping the phone at 120hz got me atleast 1+1/2 days of usage, with 8.3 hours of screen on time. Now that is wow.4. 33W fast charger is adequate and doesn't get hot, but not well optimized if you are also using the screen while its being charged.5. If you disable lockscreen notification, you don't get an playback controls on notification for any apps. Turning it on, makes that the playback controls never ever go, it's stuck on the top forever. (maybe it's a feature?)6. Proximity Sensor. Yes. I feel Xiaomi ommited it. It's fine for calls of short duration but if you are talking for hours, you will get issues, like getting muted or speaker tuning on etc. Not really a issue for me, since i barely use or get calls once a week.7. Phone doesn't really get hot, but miui still does need to optimize this device a bit more, but i doubt they'd do that, since they are launching so many phones in such a short time.8. I liked them superwallpapers, but turning on ultra power saver, defaults the amoled ss.9. Would be nice of they remove the 10 second limit of amoled ss.10. Case is already going yellow. Lol.11. Oh last, don't know what people say about background app optimization issue, but that is working just fine for me.I'm still happy with my device, it's well balanced, looks good, works good too. Plus 8GB of ram is a banger. No ads, none.Rating changed from 5stars to 4.\"],\n",
       " ['4.0 out of 5 stars']]"
      ]
     },
     "execution_count": 157,
     "metadata": {},
     "output_type": "execute_result"
    }
   ],
   "source": [
    "dataset[1]"
   ]
  },
  {
   "cell_type": "code",
   "execution_count": 158,
   "metadata": {
    "colab": {
     "base_uri": "https://localhost:8080/"
    },
    "id": "0cpe3DmBpV5c",
    "outputId": "83cc1e78-b51d-4df6-a322-3cf9e1cf1595"
   },
   "outputs": [
    {
     "data": {
      "text/plain": [
       "['Reviewed in India on 16 July 2021']"
      ]
     },
     "execution_count": 158,
     "metadata": {},
     "output_type": "execute_result"
    }
   ],
   "source": [
    "dataset[0][0]"
   ]
  },
  {
   "cell_type": "code",
   "execution_count": 159,
   "metadata": {
    "colab": {
     "base_uri": "https://localhost:8080/"
    },
    "id": "lsizA3pzpV2G",
    "outputId": "67380e6c-f57d-4a95-9081-c8484bc35b84"
   },
   "outputs": [
    {
     "data": {
      "text/plain": [
       "['Since my OnePlus 7 conked off out of nowhere one fine day, I was forced to scout for a new phone on a very short term basis. Because of this, I had to move from a phone in the budget premium segment to a higher trim phone within the midrange segment. I will be writing this review from this perspective. I have been using this phone as my main device since the 4th of July, and I\\'ve written this review after using this phone for a little under two weeks.One of the biggest things that got my eye was the beautiful Samsung AMOLED display. It is on par with, if not better than my older OnePlus 7. The blacks are beautiful and I could tell that MI did not skimp out on this segment. However, I do feel that their touch sensor could use some improvement, as I find myself mistouching a lot of buttons on it. Also, the screen tends to have a significant flashing problem, especially during the night. While I don\\'t think this is a very frequent issue, do keep this in mind when making a purchase. Another great thing about the screen is the refresh rate. While 120 Hz does make a noticeable difference to the speed at which images and frames move, over time it didn\\'t feel too prominent. Also, most websites do not have the silky smooth scrolling, thus, making it feel a bit alienating. That being said, the refresh rate is very noticeable for sure.The build quality of the phone is quite good for the price. While the phone does have a plastic back, it doesn\\'t feel cheap and feels quite sturdy in the hand. The aluminum sides give it a very premium look, even when coupled with the glass back. That being said, having seen the durability tests on youtube, which seemed to highlight that the phone has a lot of vulnerabilities in the build sturdiness. So I\\'d recommend treating this phone and putting a case on it if using it.The software experience is not too bad. I love the amount of customisation MIUI offers, from the huge selection of user made themes available, to the smaller quality of life changes from the ability to hide the notch to the ability to go as far as changing the phones font. However I did notice that the phone forces apps to go an dark mode when dark mode is turned on, which causes some images appear incorrectly on the apps. Also, there are times when the screen goes completely unresponsive, and forcing a shutdown is the only way to get the phone back to normal. Other than this, the software is good. A major plus is the fact that the phone comes with Android 11 out of the box, and the phone doesn\\'t have any heating issues. The only time I noticed heating issues is when the phone was running a video call in windowed mode. Since this puts the phone under a considerable amount of load, I would give it a pass. Another thing I would like to bring to light is the fact that flashing an custom ROM will take a few days, as MI seems to have a weird approval system.A major positive about the phone is the camera. The camera works wonderfully, whether the app being used is the stock camera or GCam. When compared to GCam, the stock camera seems to churn out more brighter images. However, I think that GCam churns out more \"accurate\" images. There is an beautification effect on selfies which is not very noticeable on the stock camera app, but when compared to images taken through GCam, which are a lot more accurate, it becomes very obvious. To sum up the camera performance however, it is excellent and extremely reliable. Definitely worth going for if you want to take great high quality pictures. The Wide Angle camera could use some improvement, but the Macro and the main 64 MP shooter are absolutely wonderful.I cannot comment on the battery life yet as I haven\\'t used my phone for a full day outside yet. But from what I can tell the battery has given me 8 hours SOT on light usage when going from 30-100, which is impressive. The battery doesn\\'t discharge fast as well. However, it is to be noted that I mostly use my phone on the 60 Hz setting, so my results can vary greatly from the others. The phone charges fast enough, but since I rarely charge my phone to a full battery, preferring to do it in small spurts instead, I cannot say much about the charging speed other than saying that it charges fast.One positive change that Xiaomi seemed to have implemented in the current set of phones is the fact that there are no ads inbuilt in important UI areas, like settings and the notification bar. Having used the Redmi Note 4 in the past, I can tell that this used to be the case for their older devices. This seems to have been done in response to pressure from users and influencers. That being said, their inbuilt preloaded applications do display many advertisements through notifications and can easily be turned off by stopping notifications from said apps. Once this is done, then you won\\'t see advertisements in the phone at all. I must note that Xiaomi\\'s business model for their budget devices revolves around these advertisements (they refer to it as services), it is to be expected in their Redmi line of devices. I am pointing this out to show that there is an extra cost the end user pays for due to the low budget margins of these budget devices, and that cost comes in the form of these advertisements in the UI. This business model is implemented so that they can offer better value as compared to their competitors.While I am not a huge mobile gamer anymore, I have tried playing Battlegrounds India for around half an hour just to see how it was. The game worked well, and there didn\\'t seem to be much of a difference in real time performance as compared to my older OnePlus 7. I did not notice any heating on the device. However, it is to be noted that the OnePlus 7 has a much higher AnTuTu benchmark rating as compared to this phone. While this phone is certainly not a slouch when it comes to gaming, I think that the POCO X3 Pro is a much better pick than the Redmi Note 10 Pro if gaming is a priority given its powerful SD 860 chipset.The speakers are really loud and play music really clearly. They work significantly better than the speakers on my older OnePlus device. I was also happy to get the headphone jack back as well, and it works well with my current KZ Edx OEMs. I\\'m happy to note that the phone provides the option to expand storage which I definitely will be taking advantage of in the future.So, to sum it up, the phone is a good pick in this price range, due to its well rounded offerings. The camera, the display, the speakers, and the battery life come together to make this phone a good package. There are minor hitches with the software that could be improved in the future, and the vulnerabilities in the build are a cause for concern. However, as long as used properly and carefully, I really don\\'t think that anything will happen to the device.Salient points from the above observations:1. The phone has a good and premium looking design. However there are questions about the durability.2. The phone has a great and reliable camera, human faces are given a \"beautification\" effect by the stock camera.3. There are issues with the software, such as a flashing display and an aggressive dark mode, along with random freezes.4. The battery life is quite decent and the phone lasts long.5. Has an acceptable gaming performance, but there are better picks in this price range for this purpose, like the POCO X3 Pro.6. Ads are only present in the pre-loaded apps, can be disabled by turning off all notifications from these apps.7. The phone has a wait time before allowing the bootloader to be unlocked, to be noted if you want to flash a ROM on this device.10. Has a beautiful display that competes strongly with my older OnePlus 7.Note: I have not used the Fingerprint sensor as I don\\'t want to store my biometric data on the device.']"
      ]
     },
     "execution_count": 159,
     "metadata": {},
     "output_type": "execute_result"
    }
   ],
   "source": [
    "dataset[0][1]"
   ]
  },
  {
   "cell_type": "code",
   "execution_count": 160,
   "metadata": {
    "colab": {
     "base_uri": "https://localhost:8080/"
    },
    "id": "KwtoG7KQztjT",
    "outputId": "ebc0a8c7-2478-4b27-f140-35b127cd9c60"
   },
   "outputs": [
    {
     "data": {
      "text/plain": [
       "[['Reviewed in India on 16 July 2021'],\n",
       " ['Since my OnePlus 7 conked off out of nowhere one fine day, I was forced to scout for a new phone on a very short term basis. Because of this, I had to move from a phone in the budget premium segment to a higher trim phone within the midrange segment. I will be writing this review from this perspective. I have been using this phone as my main device since the 4th of July, and I\\'ve written this review after using this phone for a little under two weeks.One of the biggest things that got my eye was the beautiful Samsung AMOLED display. It is on par with, if not better than my older OnePlus 7. The blacks are beautiful and I could tell that MI did not skimp out on this segment. However, I do feel that their touch sensor could use some improvement, as I find myself mistouching a lot of buttons on it. Also, the screen tends to have a significant flashing problem, especially during the night. While I don\\'t think this is a very frequent issue, do keep this in mind when making a purchase. Another great thing about the screen is the refresh rate. While 120 Hz does make a noticeable difference to the speed at which images and frames move, over time it didn\\'t feel too prominent. Also, most websites do not have the silky smooth scrolling, thus, making it feel a bit alienating. That being said, the refresh rate is very noticeable for sure.The build quality of the phone is quite good for the price. While the phone does have a plastic back, it doesn\\'t feel cheap and feels quite sturdy in the hand. The aluminum sides give it a very premium look, even when coupled with the glass back. That being said, having seen the durability tests on youtube, which seemed to highlight that the phone has a lot of vulnerabilities in the build sturdiness. So I\\'d recommend treating this phone and putting a case on it if using it.The software experience is not too bad. I love the amount of customisation MIUI offers, from the huge selection of user made themes available, to the smaller quality of life changes from the ability to hide the notch to the ability to go as far as changing the phones font. However I did notice that the phone forces apps to go an dark mode when dark mode is turned on, which causes some images appear incorrectly on the apps. Also, there are times when the screen goes completely unresponsive, and forcing a shutdown is the only way to get the phone back to normal. Other than this, the software is good. A major plus is the fact that the phone comes with Android 11 out of the box, and the phone doesn\\'t have any heating issues. The only time I noticed heating issues is when the phone was running a video call in windowed mode. Since this puts the phone under a considerable amount of load, I would give it a pass. Another thing I would like to bring to light is the fact that flashing an custom ROM will take a few days, as MI seems to have a weird approval system.A major positive about the phone is the camera. The camera works wonderfully, whether the app being used is the stock camera or GCam. When compared to GCam, the stock camera seems to churn out more brighter images. However, I think that GCam churns out more \"accurate\" images. There is an beautification effect on selfies which is not very noticeable on the stock camera app, but when compared to images taken through GCam, which are a lot more accurate, it becomes very obvious. To sum up the camera performance however, it is excellent and extremely reliable. Definitely worth going for if you want to take great high quality pictures. The Wide Angle camera could use some improvement, but the Macro and the main 64 MP shooter are absolutely wonderful.I cannot comment on the battery life yet as I haven\\'t used my phone for a full day outside yet. But from what I can tell the battery has given me 8 hours SOT on light usage when going from 30-100, which is impressive. The battery doesn\\'t discharge fast as well. However, it is to be noted that I mostly use my phone on the 60 Hz setting, so my results can vary greatly from the others. The phone charges fast enough, but since I rarely charge my phone to a full battery, preferring to do it in small spurts instead, I cannot say much about the charging speed other than saying that it charges fast.One positive change that Xiaomi seemed to have implemented in the current set of phones is the fact that there are no ads inbuilt in important UI areas, like settings and the notification bar. Having used the Redmi Note 4 in the past, I can tell that this used to be the case for their older devices. This seems to have been done in response to pressure from users and influencers. That being said, their inbuilt preloaded applications do display many advertisements through notifications and can easily be turned off by stopping notifications from said apps. Once this is done, then you won\\'t see advertisements in the phone at all. I must note that Xiaomi\\'s business model for their budget devices revolves around these advertisements (they refer to it as services), it is to be expected in their Redmi line of devices. I am pointing this out to show that there is an extra cost the end user pays for due to the low budget margins of these budget devices, and that cost comes in the form of these advertisements in the UI. This business model is implemented so that they can offer better value as compared to their competitors.While I am not a huge mobile gamer anymore, I have tried playing Battlegrounds India for around half an hour just to see how it was. The game worked well, and there didn\\'t seem to be much of a difference in real time performance as compared to my older OnePlus 7. I did not notice any heating on the device. However, it is to be noted that the OnePlus 7 has a much higher AnTuTu benchmark rating as compared to this phone. While this phone is certainly not a slouch when it comes to gaming, I think that the POCO X3 Pro is a much better pick than the Redmi Note 10 Pro if gaming is a priority given its powerful SD 860 chipset.The speakers are really loud and play music really clearly. They work significantly better than the speakers on my older OnePlus device. I was also happy to get the headphone jack back as well, and it works well with my current KZ Edx OEMs. I\\'m happy to note that the phone provides the option to expand storage which I definitely will be taking advantage of in the future.So, to sum it up, the phone is a good pick in this price range, due to its well rounded offerings. The camera, the display, the speakers, and the battery life come together to make this phone a good package. There are minor hitches with the software that could be improved in the future, and the vulnerabilities in the build are a cause for concern. However, as long as used properly and carefully, I really don\\'t think that anything will happen to the device.Salient points from the above observations:1. The phone has a good and premium looking design. However there are questions about the durability.2. The phone has a great and reliable camera, human faces are given a \"beautification\" effect by the stock camera.3. There are issues with the software, such as a flashing display and an aggressive dark mode, along with random freezes.4. The battery life is quite decent and the phone lasts long.5. Has an acceptable gaming performance, but there are better picks in this price range for this purpose, like the POCO X3 Pro.6. Ads are only present in the pre-loaded apps, can be disabled by turning off all notifications from these apps.7. The phone has a wait time before allowing the bootloader to be unlocked, to be noted if you want to flash a ROM on this device.10. Has a beautiful display that competes strongly with my older OnePlus 7.Note: I have not used the Fingerprint sensor as I don\\'t want to store my biometric data on the device.'],\n",
       " ['5.0 out of 5 stars']]"
      ]
     },
     "execution_count": 160,
     "metadata": {},
     "output_type": "execute_result"
    }
   ],
   "source": [
    "dataset[0]"
   ]
  },
  {
   "cell_type": "code",
   "execution_count": 161,
   "metadata": {
    "colab": {
     "base_uri": "https://localhost:8080/"
    },
    "id": "Q7o1B077pSJb",
    "outputId": "05d77505-6bb4-4af5-9657-deb71fd2a3a8"
   },
   "outputs": [
    {
     "data": {
      "text/plain": [
       "['5.0 out of 5 stars']"
      ]
     },
     "execution_count": 161,
     "metadata": {},
     "output_type": "execute_result"
    }
   ],
   "source": [
    "dataset[0][2]"
   ]
  },
  {
   "cell_type": "code",
   "execution_count": 162,
   "metadata": {
    "id": "U4iqGFQMpto_"
   },
   "outputs": [],
   "source": [
    "import pandas as pd"
   ]
  },
  {
   "cell_type": "code",
   "execution_count": 163,
   "metadata": {
    "id": "Ys-vbtt0pwTS"
   },
   "outputs": [],
   "source": [
    "df_amazon = pd.DataFrame(dataset,columns = [\"Dates\",\"Reviews\",\"Ratings\"])"
   ]
  },
  {
   "cell_type": "code",
   "execution_count": 164,
   "metadata": {
    "colab": {
     "base_uri": "https://localhost:8080/",
     "height": 363
    },
    "id": "a_y3DqSrpywe",
    "outputId": "f99f2805-73f7-4413-b7e3-243a85239db3"
   },
   "outputs": [
    {
     "data": {
      "text/html": [
       "\n",
       "  <div id=\"df-254f8bfc-62b5-4887-b725-feb3935f8695\">\n",
       "    <div class=\"colab-df-container\">\n",
       "      <div>\n",
       "<style scoped>\n",
       "    .dataframe tbody tr th:only-of-type {\n",
       "        vertical-align: middle;\n",
       "    }\n",
       "\n",
       "    .dataframe tbody tr th {\n",
       "        vertical-align: top;\n",
       "    }\n",
       "\n",
       "    .dataframe thead th {\n",
       "        text-align: right;\n",
       "    }\n",
       "</style>\n",
       "<table border=\"1\" class=\"dataframe\">\n",
       "  <thead>\n",
       "    <tr style=\"text-align: right;\">\n",
       "      <th></th>\n",
       "      <th>Dates</th>\n",
       "      <th>Reviews</th>\n",
       "      <th>Ratings</th>\n",
       "    </tr>\n",
       "  </thead>\n",
       "  <tbody>\n",
       "    <tr>\n",
       "      <th>0</th>\n",
       "      <td>[Reviewed in India on 16 July 2021]</td>\n",
       "      <td>[Since my OnePlus 7 conked off out of nowhere ...</td>\n",
       "      <td>[5.0 out of 5 stars]</td>\n",
       "    </tr>\n",
       "    <tr>\n",
       "      <th>1</th>\n",
       "      <td>[Reviewed in India on 8 June 2021]</td>\n",
       "      <td>[Bought this smartphone for a discount of 1750...</td>\n",
       "      <td>[4.0 out of 5 stars]</td>\n",
       "    </tr>\n",
       "    <tr>\n",
       "      <th>2</th>\n",
       "      <td>[Reviewed in India on 11 September 2022]</td>\n",
       "      <td>[Got this phone for 15,499 on Amazon. It's a d...</td>\n",
       "      <td>[4.0 out of 5 stars]</td>\n",
       "    </tr>\n",
       "    <tr>\n",
       "      <th>3</th>\n",
       "      <td>[Reviewed in India on 9 September 2022]</td>\n",
       "      <td>[The phone is overall quite good but only one ...</td>\n",
       "      <td>[4.0 out of 5 stars]</td>\n",
       "    </tr>\n",
       "    <tr>\n",
       "      <th>4</th>\n",
       "      <td>[Reviewed in India on 27 July 2022]</td>\n",
       "      <td>[I am writing this review after one week of us...</td>\n",
       "      <td>[4.0 out of 5 stars]</td>\n",
       "    </tr>\n",
       "    <tr>\n",
       "      <th>5</th>\n",
       "      <td>[Reviewed in India on 28 August 2022]</td>\n",
       "      <td>[I bought the phone in drcmber of 2021 and til...</td>\n",
       "      <td>[4.0 out of 5 stars]</td>\n",
       "    </tr>\n",
       "    <tr>\n",
       "      <th>6</th>\n",
       "      <td>[Reviewed in India on 18 September 2022]</td>\n",
       "      <td>[Display is good . Battery is also decent give...</td>\n",
       "      <td>[4.0 out of 5 stars]</td>\n",
       "    </tr>\n",
       "    <tr>\n",
       "      <th>7</th>\n",
       "      <td>[Reviewed in India on 14 September 2022]</td>\n",
       "      <td>[Good in this segment but some battery issues ...</td>\n",
       "      <td>[4.0 out of 5 stars]</td>\n",
       "    </tr>\n",
       "    <tr>\n",
       "      <th>8</th>\n",
       "      <td>[Reviewed in India on 16 April 2021]</td>\n",
       "      <td>[Here is my review of the two unit I have rece...</td>\n",
       "      <td>[4.0 out of 5 stars]</td>\n",
       "    </tr>\n",
       "    <tr>\n",
       "      <th>9</th>\n",
       "      <td>[Reviewed in India on 16 September 2022]</td>\n",
       "      <td>[Very good phone]</td>\n",
       "      <td>[4.0 out of 5 stars]</td>\n",
       "    </tr>\n",
       "  </tbody>\n",
       "</table>\n",
       "</div>\n",
       "      <button class=\"colab-df-convert\" onclick=\"convertToInteractive('df-254f8bfc-62b5-4887-b725-feb3935f8695')\"\n",
       "              title=\"Convert this dataframe to an interactive table.\"\n",
       "              style=\"display:none;\">\n",
       "        \n",
       "  <svg xmlns=\"http://www.w3.org/2000/svg\" height=\"24px\"viewBox=\"0 0 24 24\"\n",
       "       width=\"24px\">\n",
       "    <path d=\"M0 0h24v24H0V0z\" fill=\"none\"/>\n",
       "    <path d=\"M18.56 5.44l.94 2.06.94-2.06 2.06-.94-2.06-.94-.94-2.06-.94 2.06-2.06.94zm-11 1L8.5 8.5l.94-2.06 2.06-.94-2.06-.94L8.5 2.5l-.94 2.06-2.06.94zm10 10l.94 2.06.94-2.06 2.06-.94-2.06-.94-.94-2.06-.94 2.06-2.06.94z\"/><path d=\"M17.41 7.96l-1.37-1.37c-.4-.4-.92-.59-1.43-.59-.52 0-1.04.2-1.43.59L10.3 9.45l-7.72 7.72c-.78.78-.78 2.05 0 2.83L4 21.41c.39.39.9.59 1.41.59.51 0 1.02-.2 1.41-.59l7.78-7.78 2.81-2.81c.8-.78.8-2.07 0-2.86zM5.41 20L4 18.59l7.72-7.72 1.47 1.35L5.41 20z\"/>\n",
       "  </svg>\n",
       "      </button>\n",
       "      \n",
       "  <style>\n",
       "    .colab-df-container {\n",
       "      display:flex;\n",
       "      flex-wrap:wrap;\n",
       "      gap: 12px;\n",
       "    }\n",
       "\n",
       "    .colab-df-convert {\n",
       "      background-color: #E8F0FE;\n",
       "      border: none;\n",
       "      border-radius: 50%;\n",
       "      cursor: pointer;\n",
       "      display: none;\n",
       "      fill: #1967D2;\n",
       "      height: 32px;\n",
       "      padding: 0 0 0 0;\n",
       "      width: 32px;\n",
       "    }\n",
       "\n",
       "    .colab-df-convert:hover {\n",
       "      background-color: #E2EBFA;\n",
       "      box-shadow: 0px 1px 2px rgba(60, 64, 67, 0.3), 0px 1px 3px 1px rgba(60, 64, 67, 0.15);\n",
       "      fill: #174EA6;\n",
       "    }\n",
       "\n",
       "    [theme=dark] .colab-df-convert {\n",
       "      background-color: #3B4455;\n",
       "      fill: #D2E3FC;\n",
       "    }\n",
       "\n",
       "    [theme=dark] .colab-df-convert:hover {\n",
       "      background-color: #434B5C;\n",
       "      box-shadow: 0px 1px 3px 1px rgba(0, 0, 0, 0.15);\n",
       "      filter: drop-shadow(0px 1px 2px rgba(0, 0, 0, 0.3));\n",
       "      fill: #FFFFFF;\n",
       "    }\n",
       "  </style>\n",
       "\n",
       "      <script>\n",
       "        const buttonEl =\n",
       "          document.querySelector('#df-254f8bfc-62b5-4887-b725-feb3935f8695 button.colab-df-convert');\n",
       "        buttonEl.style.display =\n",
       "          google.colab.kernel.accessAllowed ? 'block' : 'none';\n",
       "\n",
       "        async function convertToInteractive(key) {\n",
       "          const element = document.querySelector('#df-254f8bfc-62b5-4887-b725-feb3935f8695');\n",
       "          const dataTable =\n",
       "            await google.colab.kernel.invokeFunction('convertToInteractive',\n",
       "                                                     [key], {});\n",
       "          if (!dataTable) return;\n",
       "\n",
       "          const docLinkHtml = 'Like what you see? Visit the ' +\n",
       "            '<a target=\"_blank\" href=https://colab.research.google.com/notebooks/data_table.ipynb>data table notebook</a>'\n",
       "            + ' to learn more about interactive tables.';\n",
       "          element.innerHTML = '';\n",
       "          dataTable['output_type'] = 'display_data';\n",
       "          await google.colab.output.renderOutput(dataTable, element);\n",
       "          const docLink = document.createElement('div');\n",
       "          docLink.innerHTML = docLinkHtml;\n",
       "          element.appendChild(docLink);\n",
       "        }\n",
       "      </script>\n",
       "    </div>\n",
       "  </div>\n",
       "  "
      ],
      "text/plain": [
       "                                      Dates  \\\n",
       "0       [Reviewed in India on 16 July 2021]   \n",
       "1        [Reviewed in India on 8 June 2021]   \n",
       "2  [Reviewed in India on 11 September 2022]   \n",
       "3   [Reviewed in India on 9 September 2022]   \n",
       "4       [Reviewed in India on 27 July 2022]   \n",
       "5     [Reviewed in India on 28 August 2022]   \n",
       "6  [Reviewed in India on 18 September 2022]   \n",
       "7  [Reviewed in India on 14 September 2022]   \n",
       "8      [Reviewed in India on 16 April 2021]   \n",
       "9  [Reviewed in India on 16 September 2022]   \n",
       "\n",
       "                                             Reviews               Ratings  \n",
       "0  [Since my OnePlus 7 conked off out of nowhere ...  [5.0 out of 5 stars]  \n",
       "1  [Bought this smartphone for a discount of 1750...  [4.0 out of 5 stars]  \n",
       "2  [Got this phone for 15,499 on Amazon. It's a d...  [4.0 out of 5 stars]  \n",
       "3  [The phone is overall quite good but only one ...  [4.0 out of 5 stars]  \n",
       "4  [I am writing this review after one week of us...  [4.0 out of 5 stars]  \n",
       "5  [I bought the phone in drcmber of 2021 and til...  [4.0 out of 5 stars]  \n",
       "6  [Display is good . Battery is also decent give...  [4.0 out of 5 stars]  \n",
       "7  [Good in this segment but some battery issues ...  [4.0 out of 5 stars]  \n",
       "8  [Here is my review of the two unit I have rece...  [4.0 out of 5 stars]  \n",
       "9                                  [Very good phone]  [4.0 out of 5 stars]  "
      ]
     },
     "execution_count": 164,
     "metadata": {},
     "output_type": "execute_result"
    }
   ],
   "source": [
    "df_amazon.head(10)"
   ]
  },
  {
   "cell_type": "code",
   "execution_count": 165,
   "metadata": {
    "colab": {
     "base_uri": "https://localhost:8080/"
    },
    "id": "JqE3nt4j3CHR",
    "outputId": "a772a0b9-c809-4424-83ac-1bd7809ae998"
   },
   "outputs": [
    {
     "data": {
      "text/plain": [
       "Dates      0\n",
       "Reviews    0\n",
       "Ratings    0\n",
       "dtype: int64"
      ]
     },
     "execution_count": 165,
     "metadata": {},
     "output_type": "execute_result"
    }
   ],
   "source": [
    "df_amazon.isnull().sum()"
   ]
  },
  {
   "cell_type": "code",
   "execution_count": 166,
   "metadata": {
    "colab": {
     "base_uri": "https://localhost:8080/"
    },
    "id": "UcU12PkC9CmB",
    "outputId": "a146814e-a52f-4a58-884e-f47667e1738e"
   },
   "outputs": [
    {
     "name": "stdout",
     "output_type": "stream",
     "text": [
      "<class 'pandas.core.frame.DataFrame'>\n",
      "RangeIndex: 20 entries, 0 to 19\n",
      "Data columns (total 3 columns):\n",
      " #   Column   Non-Null Count  Dtype \n",
      "---  ------   --------------  ----- \n",
      " 0   Dates    20 non-null     object\n",
      " 1   Reviews  20 non-null     object\n",
      " 2   Ratings  20 non-null     object\n",
      "dtypes: object(3)\n",
      "memory usage: 608.0+ bytes\n"
     ]
    }
   ],
   "source": [
    "df_amazon.info()"
   ]
  },
  {
   "cell_type": "code",
   "execution_count": 131,
   "metadata": {
    "id": "LgvvnoVYzVrt"
   },
   "outputs": [],
   "source": [
    "import re"
   ]
  },
  {
   "cell_type": "code",
   "execution_count": 167,
   "metadata": {
    "id": "VySqq6oN1aGn"
   },
   "outputs": [],
   "source": [
    "def split_text(x):\n",
    "  x = x.split()[-3:]\n",
    "  x = \" \".join([x[0],x[1],x[2]])\n",
    "  return x"
   ]
  },
  {
   "cell_type": "code",
   "execution_count": 168,
   "metadata": {
    "colab": {
     "base_uri": "https://localhost:8080/",
     "height": 36
    },
    "id": "KW1HB2wA16B8",
    "outputId": "41a693bf-3f02-4916-875c-290f762bca99"
   },
   "outputs": [
    {
     "data": {
      "application/vnd.google.colaboratory.intrinsic+json": {
       "type": "string"
      },
      "text/plain": [
       "'16 July 2021'"
      ]
     },
     "execution_count": 168,
     "metadata": {},
     "output_type": "execute_result"
    }
   ],
   "source": [
    "split_text(\"Reviewed in India on 16 July 2021\")"
   ]
  },
  {
   "cell_type": "code",
   "execution_count": 175,
   "metadata": {
    "id": "-nH_nwdM2XjV"
   },
   "outputs": [],
   "source": [
    "def remove_bracket(x):\n",
    "  y = x[1:-1]\n",
    "  return y"
   ]
  },
  {
   "cell_type": "code",
   "execution_count": 170,
   "metadata": {
    "colab": {
     "base_uri": "https://localhost:8080/",
     "height": 36
    },
    "id": "pGld8spf2mUU",
    "outputId": "abe72672-75a7-48e2-bd25-cdea20482fb2"
   },
   "outputs": [
    {
     "data": {
      "application/vnd.google.colaboratory.intrinsic+json": {
       "type": "string"
      },
      "text/plain": [
       "'Preetam Saha'"
      ]
     },
     "execution_count": 170,
     "metadata": {},
     "output_type": "execute_result"
    }
   ],
   "source": [
    "remove_bracket(\"[Preetam Saha]\")"
   ]
  },
  {
   "cell_type": "code",
   "execution_count": 171,
   "metadata": {
    "id": "W_GUrjAG3JWu"
   },
   "outputs": [],
   "source": [
    "def only_ratings(x):\n",
    "  x = x.split()[0]\n",
    "  x = float(x)\n",
    "  return x"
   ]
  },
  {
   "cell_type": "code",
   "execution_count": 179,
   "metadata": {
    "colab": {
     "base_uri": "https://localhost:8080/"
    },
    "id": "bElMAkCc3hfX",
    "outputId": "e810fc0d-7b02-4525-c075-07b1a6b01eb2"
   },
   "outputs": [
    {
     "data": {
      "text/plain": [
       "5.0"
      ]
     },
     "execution_count": 179,
     "metadata": {},
     "output_type": "execute_result"
    }
   ],
   "source": [
    "only_ratings(\"5.0 out of 5 stars\")"
   ]
  },
  {
   "cell_type": "code",
   "execution_count": 184,
   "metadata": {
    "id": "aywS44wD9o5h"
   },
   "outputs": [],
   "source": [
    "dataset = []\n",
    "for page in range(1,51):\n",
    "  url = f\"https://www.amazon.in/Test-Exclusive_2020_1153-Multi-3GB-Storage/product-reviews/B089MSK43J/ref=cm_cr_getr_d_paging_btm_prev_1?ie=UTF8&reviewerType=all_reviews&pageNumber={page}\"\n",
    "  browser.get(url)\n",
    "  containers = [x.get_attribute('innerHTML') for x in browser.find_elements(By.XPATH,\"//div[@class='a-section celwidget']\")]\n",
    "  #print(len(containers))\n",
    "  for container in containers:\n",
    "    # reviews=[]\n",
    "    # ratings=[]\n",
    "    # dates=[]\n",
    "    bsObj = BeautifulSoup(container)\n",
    "    rev = bsObj.find(\"span\",attrs={\"class\":\"a-size-base review-text review-text-content\"}).text.strip()\n",
    "    # reviews.append(rev)\n",
    "\n",
    "    dt = bsObj.find(\"span\",attrs={\"class\":\"a-size-base a-color-secondary review-date\"}).text.strip()\n",
    "    # dates.append(dt)\n",
    "\n",
    "    rating = bsObj.find(\"a\",attrs={\"class\":\"a-link-normal\"}).text.strip()\n",
    "    # ratings.append(rating)\n",
    "\n",
    "    dataset.append((dt,rev,rating))"
   ]
  },
  {
   "cell_type": "code",
   "execution_count": 185,
   "metadata": {
    "id": "jxyXpRoP93PJ"
   },
   "outputs": [],
   "source": [
    "data_amazon = pd.DataFrame(dataset,columns = [\"Dates\",\"Reviews\",\"Ratings\"])"
   ]
  },
  {
   "cell_type": "code",
   "execution_count": 186,
   "metadata": {
    "colab": {
     "base_uri": "https://localhost:8080/"
    },
    "id": "9Zeg9EG1-AcF",
    "outputId": "e1985c32-09d3-4969-8e57-64b48b5a30f7"
   },
   "outputs": [
    {
     "data": {
      "text/plain": [
       "(500, 3)"
      ]
     },
     "execution_count": 186,
     "metadata": {},
     "output_type": "execute_result"
    }
   ],
   "source": [
    "data_amazon.shape"
   ]
  },
  {
   "cell_type": "code",
   "execution_count": 187,
   "metadata": {
    "colab": {
     "base_uri": "https://localhost:8080/",
     "height": 206
    },
    "id": "MjS-w48Q-s5g",
    "outputId": "5fff4680-2c88-45bd-c569-8e95f505edde"
   },
   "outputs": [
    {
     "data": {
      "text/html": [
       "\n",
       "  <div id=\"df-0b45f92b-4ce1-45bf-bd68-61b79e4c1a9d\">\n",
       "    <div class=\"colab-df-container\">\n",
       "      <div>\n",
       "<style scoped>\n",
       "    .dataframe tbody tr th:only-of-type {\n",
       "        vertical-align: middle;\n",
       "    }\n",
       "\n",
       "    .dataframe tbody tr th {\n",
       "        vertical-align: top;\n",
       "    }\n",
       "\n",
       "    .dataframe thead th {\n",
       "        text-align: right;\n",
       "    }\n",
       "</style>\n",
       "<table border=\"1\" class=\"dataframe\">\n",
       "  <thead>\n",
       "    <tr style=\"text-align: right;\">\n",
       "      <th></th>\n",
       "      <th>Dates</th>\n",
       "      <th>Reviews</th>\n",
       "      <th>Ratings</th>\n",
       "    </tr>\n",
       "  </thead>\n",
       "  <tbody>\n",
       "    <tr>\n",
       "      <th>0</th>\n",
       "      <td>Reviewed in India on 16 July 2021</td>\n",
       "      <td>Since my OnePlus 7 conked off out of nowhere o...</td>\n",
       "      <td>5.0 out of 5 stars</td>\n",
       "    </tr>\n",
       "    <tr>\n",
       "      <th>1</th>\n",
       "      <td>Reviewed in India on 8 June 2021</td>\n",
       "      <td>Bought this smartphone for a discount of 17500...</td>\n",
       "      <td>4.0 out of 5 stars</td>\n",
       "    </tr>\n",
       "    <tr>\n",
       "      <th>2</th>\n",
       "      <td>Reviewed in India on 11 September 2022</td>\n",
       "      <td>Got this phone for 15,499 on Amazon. It's a de...</td>\n",
       "      <td>4.0 out of 5 stars</td>\n",
       "    </tr>\n",
       "    <tr>\n",
       "      <th>3</th>\n",
       "      <td>Reviewed in India on 9 September 2022</td>\n",
       "      <td>The phone is overall quite good but only one m...</td>\n",
       "      <td>4.0 out of 5 stars</td>\n",
       "    </tr>\n",
       "    <tr>\n",
       "      <th>4</th>\n",
       "      <td>Reviewed in India on 27 July 2022</td>\n",
       "      <td>I am writing this review after one week of usa...</td>\n",
       "      <td>4.0 out of 5 stars</td>\n",
       "    </tr>\n",
       "  </tbody>\n",
       "</table>\n",
       "</div>\n",
       "      <button class=\"colab-df-convert\" onclick=\"convertToInteractive('df-0b45f92b-4ce1-45bf-bd68-61b79e4c1a9d')\"\n",
       "              title=\"Convert this dataframe to an interactive table.\"\n",
       "              style=\"display:none;\">\n",
       "        \n",
       "  <svg xmlns=\"http://www.w3.org/2000/svg\" height=\"24px\"viewBox=\"0 0 24 24\"\n",
       "       width=\"24px\">\n",
       "    <path d=\"M0 0h24v24H0V0z\" fill=\"none\"/>\n",
       "    <path d=\"M18.56 5.44l.94 2.06.94-2.06 2.06-.94-2.06-.94-.94-2.06-.94 2.06-2.06.94zm-11 1L8.5 8.5l.94-2.06 2.06-.94-2.06-.94L8.5 2.5l-.94 2.06-2.06.94zm10 10l.94 2.06.94-2.06 2.06-.94-2.06-.94-.94-2.06-.94 2.06-2.06.94z\"/><path d=\"M17.41 7.96l-1.37-1.37c-.4-.4-.92-.59-1.43-.59-.52 0-1.04.2-1.43.59L10.3 9.45l-7.72 7.72c-.78.78-.78 2.05 0 2.83L4 21.41c.39.39.9.59 1.41.59.51 0 1.02-.2 1.41-.59l7.78-7.78 2.81-2.81c.8-.78.8-2.07 0-2.86zM5.41 20L4 18.59l7.72-7.72 1.47 1.35L5.41 20z\"/>\n",
       "  </svg>\n",
       "      </button>\n",
       "      \n",
       "  <style>\n",
       "    .colab-df-container {\n",
       "      display:flex;\n",
       "      flex-wrap:wrap;\n",
       "      gap: 12px;\n",
       "    }\n",
       "\n",
       "    .colab-df-convert {\n",
       "      background-color: #E8F0FE;\n",
       "      border: none;\n",
       "      border-radius: 50%;\n",
       "      cursor: pointer;\n",
       "      display: none;\n",
       "      fill: #1967D2;\n",
       "      height: 32px;\n",
       "      padding: 0 0 0 0;\n",
       "      width: 32px;\n",
       "    }\n",
       "\n",
       "    .colab-df-convert:hover {\n",
       "      background-color: #E2EBFA;\n",
       "      box-shadow: 0px 1px 2px rgba(60, 64, 67, 0.3), 0px 1px 3px 1px rgba(60, 64, 67, 0.15);\n",
       "      fill: #174EA6;\n",
       "    }\n",
       "\n",
       "    [theme=dark] .colab-df-convert {\n",
       "      background-color: #3B4455;\n",
       "      fill: #D2E3FC;\n",
       "    }\n",
       "\n",
       "    [theme=dark] .colab-df-convert:hover {\n",
       "      background-color: #434B5C;\n",
       "      box-shadow: 0px 1px 3px 1px rgba(0, 0, 0, 0.15);\n",
       "      filter: drop-shadow(0px 1px 2px rgba(0, 0, 0, 0.3));\n",
       "      fill: #FFFFFF;\n",
       "    }\n",
       "  </style>\n",
       "\n",
       "      <script>\n",
       "        const buttonEl =\n",
       "          document.querySelector('#df-0b45f92b-4ce1-45bf-bd68-61b79e4c1a9d button.colab-df-convert');\n",
       "        buttonEl.style.display =\n",
       "          google.colab.kernel.accessAllowed ? 'block' : 'none';\n",
       "\n",
       "        async function convertToInteractive(key) {\n",
       "          const element = document.querySelector('#df-0b45f92b-4ce1-45bf-bd68-61b79e4c1a9d');\n",
       "          const dataTable =\n",
       "            await google.colab.kernel.invokeFunction('convertToInteractive',\n",
       "                                                     [key], {});\n",
       "          if (!dataTable) return;\n",
       "\n",
       "          const docLinkHtml = 'Like what you see? Visit the ' +\n",
       "            '<a target=\"_blank\" href=https://colab.research.google.com/notebooks/data_table.ipynb>data table notebook</a>'\n",
       "            + ' to learn more about interactive tables.';\n",
       "          element.innerHTML = '';\n",
       "          dataTable['output_type'] = 'display_data';\n",
       "          await google.colab.output.renderOutput(dataTable, element);\n",
       "          const docLink = document.createElement('div');\n",
       "          docLink.innerHTML = docLinkHtml;\n",
       "          element.appendChild(docLink);\n",
       "        }\n",
       "      </script>\n",
       "    </div>\n",
       "  </div>\n",
       "  "
      ],
      "text/plain": [
       "                                    Dates  \\\n",
       "0       Reviewed in India on 16 July 2021   \n",
       "1        Reviewed in India on 8 June 2021   \n",
       "2  Reviewed in India on 11 September 2022   \n",
       "3   Reviewed in India on 9 September 2022   \n",
       "4       Reviewed in India on 27 July 2022   \n",
       "\n",
       "                                             Reviews             Ratings  \n",
       "0  Since my OnePlus 7 conked off out of nowhere o...  5.0 out of 5 stars  \n",
       "1  Bought this smartphone for a discount of 17500...  4.0 out of 5 stars  \n",
       "2  Got this phone for 15,499 on Amazon. It's a de...  4.0 out of 5 stars  \n",
       "3  The phone is overall quite good but only one m...  4.0 out of 5 stars  \n",
       "4  I am writing this review after one week of usa...  4.0 out of 5 stars  "
      ]
     },
     "execution_count": 187,
     "metadata": {},
     "output_type": "execute_result"
    }
   ],
   "source": [
    "data_amazon.head()"
   ]
  },
  {
   "cell_type": "code",
   "execution_count": 188,
   "metadata": {
    "colab": {
     "base_uri": "https://localhost:8080/"
    },
    "id": "DskZownt-FCX",
    "outputId": "6b8d8215-6a15-4b8a-dcf2-3951c9526345"
   },
   "outputs": [
    {
     "name": "stdout",
     "output_type": "stream",
     "text": [
      "<class 'pandas.core.frame.DataFrame'>\n",
      "RangeIndex: 500 entries, 0 to 499\n",
      "Data columns (total 3 columns):\n",
      " #   Column   Non-Null Count  Dtype \n",
      "---  ------   --------------  ----- \n",
      " 0   Dates    500 non-null    object\n",
      " 1   Reviews  500 non-null    object\n",
      " 2   Ratings  500 non-null    object\n",
      "dtypes: object(3)\n",
      "memory usage: 11.8+ KB\n"
     ]
    }
   ],
   "source": [
    "data_amazon.info()"
   ]
  },
  {
   "cell_type": "code",
   "execution_count": 189,
   "metadata": {
    "colab": {
     "base_uri": "https://localhost:8080/"
    },
    "id": "93bIqRq8-FOf",
    "outputId": "b17ed511-9d61-49b9-b06f-65dee3638d9e"
   },
   "outputs": [
    {
     "data": {
      "text/plain": [
       "Dates      0\n",
       "Reviews    0\n",
       "Ratings    0\n",
       "dtype: int64"
      ]
     },
     "execution_count": 189,
     "metadata": {},
     "output_type": "execute_result"
    }
   ],
   "source": [
    "data_amazon.isnull().sum()"
   ]
  },
  {
   "cell_type": "code",
   "execution_count": 190,
   "metadata": {
    "colab": {
     "base_uri": "https://localhost:8080/",
     "height": 424
    },
    "id": "VfGhDx1W-FR7",
    "outputId": "3cbaf68a-cecd-49a8-eb16-bb64fb8166a7"
   },
   "outputs": [
    {
     "data": {
      "text/html": [
       "\n",
       "  <div id=\"df-e1e0503c-16f4-4684-8b99-28d557f521f5\">\n",
       "    <div class=\"colab-df-container\">\n",
       "      <div>\n",
       "<style scoped>\n",
       "    .dataframe tbody tr th:only-of-type {\n",
       "        vertical-align: middle;\n",
       "    }\n",
       "\n",
       "    .dataframe tbody tr th {\n",
       "        vertical-align: top;\n",
       "    }\n",
       "\n",
       "    .dataframe thead th {\n",
       "        text-align: right;\n",
       "    }\n",
       "</style>\n",
       "<table border=\"1\" class=\"dataframe\">\n",
       "  <thead>\n",
       "    <tr style=\"text-align: right;\">\n",
       "      <th></th>\n",
       "      <th>Dates</th>\n",
       "      <th>Reviews</th>\n",
       "      <th>Ratings</th>\n",
       "    </tr>\n",
       "  </thead>\n",
       "  <tbody>\n",
       "    <tr>\n",
       "      <th>0</th>\n",
       "      <td>Reviewed in India on 16 July 2021</td>\n",
       "      <td>Since my OnePlus 7 conked off out of nowhere o...</td>\n",
       "      <td>5.0 out of 5 stars</td>\n",
       "    </tr>\n",
       "    <tr>\n",
       "      <th>1</th>\n",
       "      <td>Reviewed in India on 8 June 2021</td>\n",
       "      <td>Bought this smartphone for a discount of 17500...</td>\n",
       "      <td>4.0 out of 5 stars</td>\n",
       "    </tr>\n",
       "    <tr>\n",
       "      <th>2</th>\n",
       "      <td>Reviewed in India on 11 September 2022</td>\n",
       "      <td>Got this phone for 15,499 on Amazon. It's a de...</td>\n",
       "      <td>4.0 out of 5 stars</td>\n",
       "    </tr>\n",
       "    <tr>\n",
       "      <th>3</th>\n",
       "      <td>Reviewed in India on 9 September 2022</td>\n",
       "      <td>The phone is overall quite good but only one m...</td>\n",
       "      <td>4.0 out of 5 stars</td>\n",
       "    </tr>\n",
       "    <tr>\n",
       "      <th>4</th>\n",
       "      <td>Reviewed in India on 27 July 2022</td>\n",
       "      <td>I am writing this review after one week of usa...</td>\n",
       "      <td>4.0 out of 5 stars</td>\n",
       "    </tr>\n",
       "    <tr>\n",
       "      <th>...</th>\n",
       "      <td>...</td>\n",
       "      <td>...</td>\n",
       "      <td>...</td>\n",
       "    </tr>\n",
       "    <tr>\n",
       "      <th>495</th>\n",
       "      <td>Reviewed in India on 23 May 2022</td>\n",
       "      <td>Super cool phone at that price. All the featur...</td>\n",
       "      <td>4.0 out of 5 stars</td>\n",
       "    </tr>\n",
       "    <tr>\n",
       "      <th>496</th>\n",
       "      <td>Reviewed in India on 1 June 2022</td>\n",
       "      <td>Not satisfied with this product</td>\n",
       "      <td>4.0 out of 5 stars</td>\n",
       "    </tr>\n",
       "    <tr>\n",
       "      <th>497</th>\n",
       "      <td>Reviewed in India on 19 July 2022</td>\n",
       "      <td>Lagging issues but value of money.</td>\n",
       "      <td>3.0 out of 5 stars</td>\n",
       "    </tr>\n",
       "    <tr>\n",
       "      <th>498</th>\n",
       "      <td>Reviewed in India on 27 May 2022</td>\n",
       "      <td>Battery backup is too good and overall prefomc...</td>\n",
       "      <td>4.0 out of 5 stars</td>\n",
       "    </tr>\n",
       "    <tr>\n",
       "      <th>499</th>\n",
       "      <td>Reviewed in India on 31 May 2022</td>\n",
       "      <td>IT;S A GOOD PHONE .</td>\n",
       "      <td>4.0 out of 5 stars</td>\n",
       "    </tr>\n",
       "  </tbody>\n",
       "</table>\n",
       "<p>500 rows × 3 columns</p>\n",
       "</div>\n",
       "      <button class=\"colab-df-convert\" onclick=\"convertToInteractive('df-e1e0503c-16f4-4684-8b99-28d557f521f5')\"\n",
       "              title=\"Convert this dataframe to an interactive table.\"\n",
       "              style=\"display:none;\">\n",
       "        \n",
       "  <svg xmlns=\"http://www.w3.org/2000/svg\" height=\"24px\"viewBox=\"0 0 24 24\"\n",
       "       width=\"24px\">\n",
       "    <path d=\"M0 0h24v24H0V0z\" fill=\"none\"/>\n",
       "    <path d=\"M18.56 5.44l.94 2.06.94-2.06 2.06-.94-2.06-.94-.94-2.06-.94 2.06-2.06.94zm-11 1L8.5 8.5l.94-2.06 2.06-.94-2.06-.94L8.5 2.5l-.94 2.06-2.06.94zm10 10l.94 2.06.94-2.06 2.06-.94-2.06-.94-.94-2.06-.94 2.06-2.06.94z\"/><path d=\"M17.41 7.96l-1.37-1.37c-.4-.4-.92-.59-1.43-.59-.52 0-1.04.2-1.43.59L10.3 9.45l-7.72 7.72c-.78.78-.78 2.05 0 2.83L4 21.41c.39.39.9.59 1.41.59.51 0 1.02-.2 1.41-.59l7.78-7.78 2.81-2.81c.8-.78.8-2.07 0-2.86zM5.41 20L4 18.59l7.72-7.72 1.47 1.35L5.41 20z\"/>\n",
       "  </svg>\n",
       "      </button>\n",
       "      \n",
       "  <style>\n",
       "    .colab-df-container {\n",
       "      display:flex;\n",
       "      flex-wrap:wrap;\n",
       "      gap: 12px;\n",
       "    }\n",
       "\n",
       "    .colab-df-convert {\n",
       "      background-color: #E8F0FE;\n",
       "      border: none;\n",
       "      border-radius: 50%;\n",
       "      cursor: pointer;\n",
       "      display: none;\n",
       "      fill: #1967D2;\n",
       "      height: 32px;\n",
       "      padding: 0 0 0 0;\n",
       "      width: 32px;\n",
       "    }\n",
       "\n",
       "    .colab-df-convert:hover {\n",
       "      background-color: #E2EBFA;\n",
       "      box-shadow: 0px 1px 2px rgba(60, 64, 67, 0.3), 0px 1px 3px 1px rgba(60, 64, 67, 0.15);\n",
       "      fill: #174EA6;\n",
       "    }\n",
       "\n",
       "    [theme=dark] .colab-df-convert {\n",
       "      background-color: #3B4455;\n",
       "      fill: #D2E3FC;\n",
       "    }\n",
       "\n",
       "    [theme=dark] .colab-df-convert:hover {\n",
       "      background-color: #434B5C;\n",
       "      box-shadow: 0px 1px 3px 1px rgba(0, 0, 0, 0.15);\n",
       "      filter: drop-shadow(0px 1px 2px rgba(0, 0, 0, 0.3));\n",
       "      fill: #FFFFFF;\n",
       "    }\n",
       "  </style>\n",
       "\n",
       "      <script>\n",
       "        const buttonEl =\n",
       "          document.querySelector('#df-e1e0503c-16f4-4684-8b99-28d557f521f5 button.colab-df-convert');\n",
       "        buttonEl.style.display =\n",
       "          google.colab.kernel.accessAllowed ? 'block' : 'none';\n",
       "\n",
       "        async function convertToInteractive(key) {\n",
       "          const element = document.querySelector('#df-e1e0503c-16f4-4684-8b99-28d557f521f5');\n",
       "          const dataTable =\n",
       "            await google.colab.kernel.invokeFunction('convertToInteractive',\n",
       "                                                     [key], {});\n",
       "          if (!dataTable) return;\n",
       "\n",
       "          const docLinkHtml = 'Like what you see? Visit the ' +\n",
       "            '<a target=\"_blank\" href=https://colab.research.google.com/notebooks/data_table.ipynb>data table notebook</a>'\n",
       "            + ' to learn more about interactive tables.';\n",
       "          element.innerHTML = '';\n",
       "          dataTable['output_type'] = 'display_data';\n",
       "          await google.colab.output.renderOutput(dataTable, element);\n",
       "          const docLink = document.createElement('div');\n",
       "          docLink.innerHTML = docLinkHtml;\n",
       "          element.appendChild(docLink);\n",
       "        }\n",
       "      </script>\n",
       "    </div>\n",
       "  </div>\n",
       "  "
      ],
      "text/plain": [
       "                                      Dates  \\\n",
       "0         Reviewed in India on 16 July 2021   \n",
       "1          Reviewed in India on 8 June 2021   \n",
       "2    Reviewed in India on 11 September 2022   \n",
       "3     Reviewed in India on 9 September 2022   \n",
       "4         Reviewed in India on 27 July 2022   \n",
       "..                                      ...   \n",
       "495        Reviewed in India on 23 May 2022   \n",
       "496        Reviewed in India on 1 June 2022   \n",
       "497       Reviewed in India on 19 July 2022   \n",
       "498        Reviewed in India on 27 May 2022   \n",
       "499        Reviewed in India on 31 May 2022   \n",
       "\n",
       "                                               Reviews             Ratings  \n",
       "0    Since my OnePlus 7 conked off out of nowhere o...  5.0 out of 5 stars  \n",
       "1    Bought this smartphone for a discount of 17500...  4.0 out of 5 stars  \n",
       "2    Got this phone for 15,499 on Amazon. It's a de...  4.0 out of 5 stars  \n",
       "3    The phone is overall quite good but only one m...  4.0 out of 5 stars  \n",
       "4    I am writing this review after one week of usa...  4.0 out of 5 stars  \n",
       "..                                                 ...                 ...  \n",
       "495  Super cool phone at that price. All the featur...  4.0 out of 5 stars  \n",
       "496                    Not satisfied with this product  4.0 out of 5 stars  \n",
       "497                 Lagging issues but value of money.  3.0 out of 5 stars  \n",
       "498  Battery backup is too good and overall prefomc...  4.0 out of 5 stars  \n",
       "499                                IT;S A GOOD PHONE .  4.0 out of 5 stars  \n",
       "\n",
       "[500 rows x 3 columns]"
      ]
     },
     "execution_count": 190,
     "metadata": {},
     "output_type": "execute_result"
    }
   ],
   "source": [
    "data_amazon"
   ]
  },
  {
   "cell_type": "code",
   "execution_count": 191,
   "metadata": {
    "colab": {
     "base_uri": "https://localhost:8080/",
     "height": 206
    },
    "id": "48vrNHRH_04J",
    "outputId": "91d228bb-19f4-4f3d-b354-90faa33cd8f1"
   },
   "outputs": [
    {
     "data": {
      "text/html": [
       "\n",
       "  <div id=\"df-fcabcd7a-12a5-45b9-a339-523c697b9992\">\n",
       "    <div class=\"colab-df-container\">\n",
       "      <div>\n",
       "<style scoped>\n",
       "    .dataframe tbody tr th:only-of-type {\n",
       "        vertical-align: middle;\n",
       "    }\n",
       "\n",
       "    .dataframe tbody tr th {\n",
       "        vertical-align: top;\n",
       "    }\n",
       "\n",
       "    .dataframe thead th {\n",
       "        text-align: right;\n",
       "    }\n",
       "</style>\n",
       "<table border=\"1\" class=\"dataframe\">\n",
       "  <thead>\n",
       "    <tr style=\"text-align: right;\">\n",
       "      <th></th>\n",
       "      <th>Dates</th>\n",
       "      <th>Reviews</th>\n",
       "      <th>Ratings</th>\n",
       "    </tr>\n",
       "  </thead>\n",
       "  <tbody>\n",
       "    <tr>\n",
       "      <th>0</th>\n",
       "      <td>16 July 2021</td>\n",
       "      <td>Since my OnePlus 7 conked off out of nowhere o...</td>\n",
       "      <td>5.0 out of 5 stars</td>\n",
       "    </tr>\n",
       "    <tr>\n",
       "      <th>1</th>\n",
       "      <td>8 June 2021</td>\n",
       "      <td>Bought this smartphone for a discount of 17500...</td>\n",
       "      <td>4.0 out of 5 stars</td>\n",
       "    </tr>\n",
       "    <tr>\n",
       "      <th>2</th>\n",
       "      <td>11 September 2022</td>\n",
       "      <td>Got this phone for 15,499 on Amazon. It's a de...</td>\n",
       "      <td>4.0 out of 5 stars</td>\n",
       "    </tr>\n",
       "    <tr>\n",
       "      <th>3</th>\n",
       "      <td>9 September 2022</td>\n",
       "      <td>The phone is overall quite good but only one m...</td>\n",
       "      <td>4.0 out of 5 stars</td>\n",
       "    </tr>\n",
       "    <tr>\n",
       "      <th>4</th>\n",
       "      <td>27 July 2022</td>\n",
       "      <td>I am writing this review after one week of usa...</td>\n",
       "      <td>4.0 out of 5 stars</td>\n",
       "    </tr>\n",
       "  </tbody>\n",
       "</table>\n",
       "</div>\n",
       "      <button class=\"colab-df-convert\" onclick=\"convertToInteractive('df-fcabcd7a-12a5-45b9-a339-523c697b9992')\"\n",
       "              title=\"Convert this dataframe to an interactive table.\"\n",
       "              style=\"display:none;\">\n",
       "        \n",
       "  <svg xmlns=\"http://www.w3.org/2000/svg\" height=\"24px\"viewBox=\"0 0 24 24\"\n",
       "       width=\"24px\">\n",
       "    <path d=\"M0 0h24v24H0V0z\" fill=\"none\"/>\n",
       "    <path d=\"M18.56 5.44l.94 2.06.94-2.06 2.06-.94-2.06-.94-.94-2.06-.94 2.06-2.06.94zm-11 1L8.5 8.5l.94-2.06 2.06-.94-2.06-.94L8.5 2.5l-.94 2.06-2.06.94zm10 10l.94 2.06.94-2.06 2.06-.94-2.06-.94-.94-2.06-.94 2.06-2.06.94z\"/><path d=\"M17.41 7.96l-1.37-1.37c-.4-.4-.92-.59-1.43-.59-.52 0-1.04.2-1.43.59L10.3 9.45l-7.72 7.72c-.78.78-.78 2.05 0 2.83L4 21.41c.39.39.9.59 1.41.59.51 0 1.02-.2 1.41-.59l7.78-7.78 2.81-2.81c.8-.78.8-2.07 0-2.86zM5.41 20L4 18.59l7.72-7.72 1.47 1.35L5.41 20z\"/>\n",
       "  </svg>\n",
       "      </button>\n",
       "      \n",
       "  <style>\n",
       "    .colab-df-container {\n",
       "      display:flex;\n",
       "      flex-wrap:wrap;\n",
       "      gap: 12px;\n",
       "    }\n",
       "\n",
       "    .colab-df-convert {\n",
       "      background-color: #E8F0FE;\n",
       "      border: none;\n",
       "      border-radius: 50%;\n",
       "      cursor: pointer;\n",
       "      display: none;\n",
       "      fill: #1967D2;\n",
       "      height: 32px;\n",
       "      padding: 0 0 0 0;\n",
       "      width: 32px;\n",
       "    }\n",
       "\n",
       "    .colab-df-convert:hover {\n",
       "      background-color: #E2EBFA;\n",
       "      box-shadow: 0px 1px 2px rgba(60, 64, 67, 0.3), 0px 1px 3px 1px rgba(60, 64, 67, 0.15);\n",
       "      fill: #174EA6;\n",
       "    }\n",
       "\n",
       "    [theme=dark] .colab-df-convert {\n",
       "      background-color: #3B4455;\n",
       "      fill: #D2E3FC;\n",
       "    }\n",
       "\n",
       "    [theme=dark] .colab-df-convert:hover {\n",
       "      background-color: #434B5C;\n",
       "      box-shadow: 0px 1px 3px 1px rgba(0, 0, 0, 0.15);\n",
       "      filter: drop-shadow(0px 1px 2px rgba(0, 0, 0, 0.3));\n",
       "      fill: #FFFFFF;\n",
       "    }\n",
       "  </style>\n",
       "\n",
       "      <script>\n",
       "        const buttonEl =\n",
       "          document.querySelector('#df-fcabcd7a-12a5-45b9-a339-523c697b9992 button.colab-df-convert');\n",
       "        buttonEl.style.display =\n",
       "          google.colab.kernel.accessAllowed ? 'block' : 'none';\n",
       "\n",
       "        async function convertToInteractive(key) {\n",
       "          const element = document.querySelector('#df-fcabcd7a-12a5-45b9-a339-523c697b9992');\n",
       "          const dataTable =\n",
       "            await google.colab.kernel.invokeFunction('convertToInteractive',\n",
       "                                                     [key], {});\n",
       "          if (!dataTable) return;\n",
       "\n",
       "          const docLinkHtml = 'Like what you see? Visit the ' +\n",
       "            '<a target=\"_blank\" href=https://colab.research.google.com/notebooks/data_table.ipynb>data table notebook</a>'\n",
       "            + ' to learn more about interactive tables.';\n",
       "          element.innerHTML = '';\n",
       "          dataTable['output_type'] = 'display_data';\n",
       "          await google.colab.output.renderOutput(dataTable, element);\n",
       "          const docLink = document.createElement('div');\n",
       "          docLink.innerHTML = docLinkHtml;\n",
       "          element.appendChild(docLink);\n",
       "        }\n",
       "      </script>\n",
       "    </div>\n",
       "  </div>\n",
       "  "
      ],
      "text/plain": [
       "               Dates                                            Reviews  \\\n",
       "0       16 July 2021  Since my OnePlus 7 conked off out of nowhere o...   \n",
       "1        8 June 2021  Bought this smartphone for a discount of 17500...   \n",
       "2  11 September 2022  Got this phone for 15,499 on Amazon. It's a de...   \n",
       "3   9 September 2022  The phone is overall quite good but only one m...   \n",
       "4       27 July 2022  I am writing this review after one week of usa...   \n",
       "\n",
       "              Ratings  \n",
       "0  5.0 out of 5 stars  \n",
       "1  4.0 out of 5 stars  \n",
       "2  4.0 out of 5 stars  \n",
       "3  4.0 out of 5 stars  \n",
       "4  4.0 out of 5 stars  "
      ]
     },
     "execution_count": 191,
     "metadata": {},
     "output_type": "execute_result"
    }
   ],
   "source": [
    "data_amazon[\"Dates\"] = data_amazon[\"Dates\"].apply(split_text)\n",
    "data_amazon.head()"
   ]
  },
  {
   "cell_type": "code",
   "execution_count": 192,
   "metadata": {
    "colab": {
     "base_uri": "https://localhost:8080/",
     "height": 206
    },
    "id": "MarPoGaD_gJ0",
    "outputId": "92ee6a22-8c32-4493-bce0-da93c9adc2f9"
   },
   "outputs": [
    {
     "data": {
      "text/html": [
       "\n",
       "  <div id=\"df-5cac10e7-9d0e-4e39-9519-db25bd3ed9c2\">\n",
       "    <div class=\"colab-df-container\">\n",
       "      <div>\n",
       "<style scoped>\n",
       "    .dataframe tbody tr th:only-of-type {\n",
       "        vertical-align: middle;\n",
       "    }\n",
       "\n",
       "    .dataframe tbody tr th {\n",
       "        vertical-align: top;\n",
       "    }\n",
       "\n",
       "    .dataframe thead th {\n",
       "        text-align: right;\n",
       "    }\n",
       "</style>\n",
       "<table border=\"1\" class=\"dataframe\">\n",
       "  <thead>\n",
       "    <tr style=\"text-align: right;\">\n",
       "      <th></th>\n",
       "      <th>Dates</th>\n",
       "      <th>Reviews</th>\n",
       "      <th>Ratings</th>\n",
       "    </tr>\n",
       "  </thead>\n",
       "  <tbody>\n",
       "    <tr>\n",
       "      <th>0</th>\n",
       "      <td>2021-07-16</td>\n",
       "      <td>Since my OnePlus 7 conked off out of nowhere o...</td>\n",
       "      <td>5.0 out of 5 stars</td>\n",
       "    </tr>\n",
       "    <tr>\n",
       "      <th>1</th>\n",
       "      <td>2021-06-08</td>\n",
       "      <td>Bought this smartphone for a discount of 17500...</td>\n",
       "      <td>4.0 out of 5 stars</td>\n",
       "    </tr>\n",
       "    <tr>\n",
       "      <th>2</th>\n",
       "      <td>2022-09-11</td>\n",
       "      <td>Got this phone for 15,499 on Amazon. It's a de...</td>\n",
       "      <td>4.0 out of 5 stars</td>\n",
       "    </tr>\n",
       "    <tr>\n",
       "      <th>3</th>\n",
       "      <td>2022-09-09</td>\n",
       "      <td>The phone is overall quite good but only one m...</td>\n",
       "      <td>4.0 out of 5 stars</td>\n",
       "    </tr>\n",
       "    <tr>\n",
       "      <th>4</th>\n",
       "      <td>2022-07-27</td>\n",
       "      <td>I am writing this review after one week of usa...</td>\n",
       "      <td>4.0 out of 5 stars</td>\n",
       "    </tr>\n",
       "  </tbody>\n",
       "</table>\n",
       "</div>\n",
       "      <button class=\"colab-df-convert\" onclick=\"convertToInteractive('df-5cac10e7-9d0e-4e39-9519-db25bd3ed9c2')\"\n",
       "              title=\"Convert this dataframe to an interactive table.\"\n",
       "              style=\"display:none;\">\n",
       "        \n",
       "  <svg xmlns=\"http://www.w3.org/2000/svg\" height=\"24px\"viewBox=\"0 0 24 24\"\n",
       "       width=\"24px\">\n",
       "    <path d=\"M0 0h24v24H0V0z\" fill=\"none\"/>\n",
       "    <path d=\"M18.56 5.44l.94 2.06.94-2.06 2.06-.94-2.06-.94-.94-2.06-.94 2.06-2.06.94zm-11 1L8.5 8.5l.94-2.06 2.06-.94-2.06-.94L8.5 2.5l-.94 2.06-2.06.94zm10 10l.94 2.06.94-2.06 2.06-.94-2.06-.94-.94-2.06-.94 2.06-2.06.94z\"/><path d=\"M17.41 7.96l-1.37-1.37c-.4-.4-.92-.59-1.43-.59-.52 0-1.04.2-1.43.59L10.3 9.45l-7.72 7.72c-.78.78-.78 2.05 0 2.83L4 21.41c.39.39.9.59 1.41.59.51 0 1.02-.2 1.41-.59l7.78-7.78 2.81-2.81c.8-.78.8-2.07 0-2.86zM5.41 20L4 18.59l7.72-7.72 1.47 1.35L5.41 20z\"/>\n",
       "  </svg>\n",
       "      </button>\n",
       "      \n",
       "  <style>\n",
       "    .colab-df-container {\n",
       "      display:flex;\n",
       "      flex-wrap:wrap;\n",
       "      gap: 12px;\n",
       "    }\n",
       "\n",
       "    .colab-df-convert {\n",
       "      background-color: #E8F0FE;\n",
       "      border: none;\n",
       "      border-radius: 50%;\n",
       "      cursor: pointer;\n",
       "      display: none;\n",
       "      fill: #1967D2;\n",
       "      height: 32px;\n",
       "      padding: 0 0 0 0;\n",
       "      width: 32px;\n",
       "    }\n",
       "\n",
       "    .colab-df-convert:hover {\n",
       "      background-color: #E2EBFA;\n",
       "      box-shadow: 0px 1px 2px rgba(60, 64, 67, 0.3), 0px 1px 3px 1px rgba(60, 64, 67, 0.15);\n",
       "      fill: #174EA6;\n",
       "    }\n",
       "\n",
       "    [theme=dark] .colab-df-convert {\n",
       "      background-color: #3B4455;\n",
       "      fill: #D2E3FC;\n",
       "    }\n",
       "\n",
       "    [theme=dark] .colab-df-convert:hover {\n",
       "      background-color: #434B5C;\n",
       "      box-shadow: 0px 1px 3px 1px rgba(0, 0, 0, 0.15);\n",
       "      filter: drop-shadow(0px 1px 2px rgba(0, 0, 0, 0.3));\n",
       "      fill: #FFFFFF;\n",
       "    }\n",
       "  </style>\n",
       "\n",
       "      <script>\n",
       "        const buttonEl =\n",
       "          document.querySelector('#df-5cac10e7-9d0e-4e39-9519-db25bd3ed9c2 button.colab-df-convert');\n",
       "        buttonEl.style.display =\n",
       "          google.colab.kernel.accessAllowed ? 'block' : 'none';\n",
       "\n",
       "        async function convertToInteractive(key) {\n",
       "          const element = document.querySelector('#df-5cac10e7-9d0e-4e39-9519-db25bd3ed9c2');\n",
       "          const dataTable =\n",
       "            await google.colab.kernel.invokeFunction('convertToInteractive',\n",
       "                                                     [key], {});\n",
       "          if (!dataTable) return;\n",
       "\n",
       "          const docLinkHtml = 'Like what you see? Visit the ' +\n",
       "            '<a target=\"_blank\" href=https://colab.research.google.com/notebooks/data_table.ipynb>data table notebook</a>'\n",
       "            + ' to learn more about interactive tables.';\n",
       "          element.innerHTML = '';\n",
       "          dataTable['output_type'] = 'display_data';\n",
       "          await google.colab.output.renderOutput(dataTable, element);\n",
       "          const docLink = document.createElement('div');\n",
       "          docLink.innerHTML = docLinkHtml;\n",
       "          element.appendChild(docLink);\n",
       "        }\n",
       "      </script>\n",
       "    </div>\n",
       "  </div>\n",
       "  "
      ],
      "text/plain": [
       "       Dates                                            Reviews  \\\n",
       "0 2021-07-16  Since my OnePlus 7 conked off out of nowhere o...   \n",
       "1 2021-06-08  Bought this smartphone for a discount of 17500...   \n",
       "2 2022-09-11  Got this phone for 15,499 on Amazon. It's a de...   \n",
       "3 2022-09-09  The phone is overall quite good but only one m...   \n",
       "4 2022-07-27  I am writing this review after one week of usa...   \n",
       "\n",
       "              Ratings  \n",
       "0  5.0 out of 5 stars  \n",
       "1  4.0 out of 5 stars  \n",
       "2  4.0 out of 5 stars  \n",
       "3  4.0 out of 5 stars  \n",
       "4  4.0 out of 5 stars  "
      ]
     },
     "execution_count": 192,
     "metadata": {},
     "output_type": "execute_result"
    }
   ],
   "source": [
    "data_amazon[\"Dates\"]= pd.to_datetime(data_amazon[\"Dates\"])\n",
    "data_amazon.head()"
   ]
  },
  {
   "cell_type": "code",
   "execution_count": 193,
   "metadata": {
    "colab": {
     "base_uri": "https://localhost:8080/",
     "height": 206
    },
    "id": "SOoWmMARAHGg",
    "outputId": "e39778bb-f062-42b7-cf84-e624390ea404"
   },
   "outputs": [
    {
     "data": {
      "text/html": [
       "\n",
       "  <div id=\"df-53a24d11-9686-4142-ab75-3b72f8e39613\">\n",
       "    <div class=\"colab-df-container\">\n",
       "      <div>\n",
       "<style scoped>\n",
       "    .dataframe tbody tr th:only-of-type {\n",
       "        vertical-align: middle;\n",
       "    }\n",
       "\n",
       "    .dataframe tbody tr th {\n",
       "        vertical-align: top;\n",
       "    }\n",
       "\n",
       "    .dataframe thead th {\n",
       "        text-align: right;\n",
       "    }\n",
       "</style>\n",
       "<table border=\"1\" class=\"dataframe\">\n",
       "  <thead>\n",
       "    <tr style=\"text-align: right;\">\n",
       "      <th></th>\n",
       "      <th>Dates</th>\n",
       "      <th>Reviews</th>\n",
       "      <th>Ratings</th>\n",
       "    </tr>\n",
       "  </thead>\n",
       "  <tbody>\n",
       "    <tr>\n",
       "      <th>0</th>\n",
       "      <td>2021-07-16</td>\n",
       "      <td>Since my OnePlus 7 conked off out of nowhere o...</td>\n",
       "      <td>5.0</td>\n",
       "    </tr>\n",
       "    <tr>\n",
       "      <th>1</th>\n",
       "      <td>2021-06-08</td>\n",
       "      <td>Bought this smartphone for a discount of 17500...</td>\n",
       "      <td>4.0</td>\n",
       "    </tr>\n",
       "    <tr>\n",
       "      <th>2</th>\n",
       "      <td>2022-09-11</td>\n",
       "      <td>Got this phone for 15,499 on Amazon. It's a de...</td>\n",
       "      <td>4.0</td>\n",
       "    </tr>\n",
       "    <tr>\n",
       "      <th>3</th>\n",
       "      <td>2022-09-09</td>\n",
       "      <td>The phone is overall quite good but only one m...</td>\n",
       "      <td>4.0</td>\n",
       "    </tr>\n",
       "    <tr>\n",
       "      <th>4</th>\n",
       "      <td>2022-07-27</td>\n",
       "      <td>I am writing this review after one week of usa...</td>\n",
       "      <td>4.0</td>\n",
       "    </tr>\n",
       "  </tbody>\n",
       "</table>\n",
       "</div>\n",
       "      <button class=\"colab-df-convert\" onclick=\"convertToInteractive('df-53a24d11-9686-4142-ab75-3b72f8e39613')\"\n",
       "              title=\"Convert this dataframe to an interactive table.\"\n",
       "              style=\"display:none;\">\n",
       "        \n",
       "  <svg xmlns=\"http://www.w3.org/2000/svg\" height=\"24px\"viewBox=\"0 0 24 24\"\n",
       "       width=\"24px\">\n",
       "    <path d=\"M0 0h24v24H0V0z\" fill=\"none\"/>\n",
       "    <path d=\"M18.56 5.44l.94 2.06.94-2.06 2.06-.94-2.06-.94-.94-2.06-.94 2.06-2.06.94zm-11 1L8.5 8.5l.94-2.06 2.06-.94-2.06-.94L8.5 2.5l-.94 2.06-2.06.94zm10 10l.94 2.06.94-2.06 2.06-.94-2.06-.94-.94-2.06-.94 2.06-2.06.94z\"/><path d=\"M17.41 7.96l-1.37-1.37c-.4-.4-.92-.59-1.43-.59-.52 0-1.04.2-1.43.59L10.3 9.45l-7.72 7.72c-.78.78-.78 2.05 0 2.83L4 21.41c.39.39.9.59 1.41.59.51 0 1.02-.2 1.41-.59l7.78-7.78 2.81-2.81c.8-.78.8-2.07 0-2.86zM5.41 20L4 18.59l7.72-7.72 1.47 1.35L5.41 20z\"/>\n",
       "  </svg>\n",
       "      </button>\n",
       "      \n",
       "  <style>\n",
       "    .colab-df-container {\n",
       "      display:flex;\n",
       "      flex-wrap:wrap;\n",
       "      gap: 12px;\n",
       "    }\n",
       "\n",
       "    .colab-df-convert {\n",
       "      background-color: #E8F0FE;\n",
       "      border: none;\n",
       "      border-radius: 50%;\n",
       "      cursor: pointer;\n",
       "      display: none;\n",
       "      fill: #1967D2;\n",
       "      height: 32px;\n",
       "      padding: 0 0 0 0;\n",
       "      width: 32px;\n",
       "    }\n",
       "\n",
       "    .colab-df-convert:hover {\n",
       "      background-color: #E2EBFA;\n",
       "      box-shadow: 0px 1px 2px rgba(60, 64, 67, 0.3), 0px 1px 3px 1px rgba(60, 64, 67, 0.15);\n",
       "      fill: #174EA6;\n",
       "    }\n",
       "\n",
       "    [theme=dark] .colab-df-convert {\n",
       "      background-color: #3B4455;\n",
       "      fill: #D2E3FC;\n",
       "    }\n",
       "\n",
       "    [theme=dark] .colab-df-convert:hover {\n",
       "      background-color: #434B5C;\n",
       "      box-shadow: 0px 1px 3px 1px rgba(0, 0, 0, 0.15);\n",
       "      filter: drop-shadow(0px 1px 2px rgba(0, 0, 0, 0.3));\n",
       "      fill: #FFFFFF;\n",
       "    }\n",
       "  </style>\n",
       "\n",
       "      <script>\n",
       "        const buttonEl =\n",
       "          document.querySelector('#df-53a24d11-9686-4142-ab75-3b72f8e39613 button.colab-df-convert');\n",
       "        buttonEl.style.display =\n",
       "          google.colab.kernel.accessAllowed ? 'block' : 'none';\n",
       "\n",
       "        async function convertToInteractive(key) {\n",
       "          const element = document.querySelector('#df-53a24d11-9686-4142-ab75-3b72f8e39613');\n",
       "          const dataTable =\n",
       "            await google.colab.kernel.invokeFunction('convertToInteractive',\n",
       "                                                     [key], {});\n",
       "          if (!dataTable) return;\n",
       "\n",
       "          const docLinkHtml = 'Like what you see? Visit the ' +\n",
       "            '<a target=\"_blank\" href=https://colab.research.google.com/notebooks/data_table.ipynb>data table notebook</a>'\n",
       "            + ' to learn more about interactive tables.';\n",
       "          element.innerHTML = '';\n",
       "          dataTable['output_type'] = 'display_data';\n",
       "          await google.colab.output.renderOutput(dataTable, element);\n",
       "          const docLink = document.createElement('div');\n",
       "          docLink.innerHTML = docLinkHtml;\n",
       "          element.appendChild(docLink);\n",
       "        }\n",
       "      </script>\n",
       "    </div>\n",
       "  </div>\n",
       "  "
      ],
      "text/plain": [
       "       Dates                                            Reviews  Ratings\n",
       "0 2021-07-16  Since my OnePlus 7 conked off out of nowhere o...      5.0\n",
       "1 2021-06-08  Bought this smartphone for a discount of 17500...      4.0\n",
       "2 2022-09-11  Got this phone for 15,499 on Amazon. It's a de...      4.0\n",
       "3 2022-09-09  The phone is overall quite good but only one m...      4.0\n",
       "4 2022-07-27  I am writing this review after one week of usa...      4.0"
      ]
     },
     "execution_count": 193,
     "metadata": {},
     "output_type": "execute_result"
    }
   ],
   "source": [
    "data_amazon[\"Ratings\"] = data_amazon[\"Ratings\"].apply(only_ratings)\n",
    "data_amazon.head()"
   ]
  },
  {
   "cell_type": "code",
   "execution_count": 194,
   "metadata": {
    "id": "GMZdtNEzAv3O"
   },
   "outputs": [],
   "source": [
    "data_amazon.to_excel(\"amazon_redmi_note_10_pro_20220920.xlsx\",index=False)"
   ]
  },
  {
   "cell_type": "code",
   "execution_count": null,
   "metadata": {
    "id": "XCblxqziB1T3"
   },
   "outputs": [],
   "source": []
  }
 ],
 "metadata": {
  "colab": {
   "provenance": []
  },
  "kernelspec": {
   "display_name": "Python 3",
   "language": "python",
   "name": "python3"
  },
  "language_info": {
   "codemirror_mode": {
    "name": "ipython",
    "version": 3
   },
   "file_extension": ".py",
   "mimetype": "text/x-python",
   "name": "python",
   "nbconvert_exporter": "python",
   "pygments_lexer": "ipython3",
   "version": "3.8.8"
  }
 },
 "nbformat": 4,
 "nbformat_minor": 1
}
